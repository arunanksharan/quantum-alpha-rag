{
 "cells": [
  {
   "cell_type": "code",
   "execution_count": 4,
   "id": "1fc1f7a2-c3be-4d5d-baf2-6bdd15aa7467",
   "metadata": {},
   "outputs": [],
   "source": [
    "import os\n",
    "from autogen import ConversableAgent"
   ]
  },
  {
   "cell_type": "code",
   "execution_count": 248,
   "id": "fc171296-5bef-469f-8c10-874e19af1a33",
   "metadata": {},
   "outputs": [],
   "source": [
    "# !pip install markdownify"
   ]
  },
  {
   "cell_type": "code",
   "execution_count": 7,
   "id": "1971b253-0c6f-4251-9761-34dec2ab1567",
   "metadata": {},
   "outputs": [],
   "source": [
    "from autogen.browser_utils import SimpleTextBrowser"
   ]
  },
  {
   "cell_type": "code",
   "execution_count": 249,
   "id": "fed3834b-9717-4ce6-89fa-c90f4771a36d",
   "metadata": {},
   "outputs": [
    {
     "data": {
      "text/plain": [
       "'about:blank'"
      ]
     },
     "execution_count": 249,
     "metadata": {},
     "output_type": "execute_result"
    }
   ],
   "source": [
    "# Autogen - Not useful in current requirement\n",
    "browser = SimpleTextBrowser()\n",
    "browser.address"
   ]
  },
  {
   "cell_type": "markdown",
   "id": "142977a0-fdb0-4cd0-b5c5-1df906b22cac",
   "metadata": {},
   "source": [
    "# Util Functions"
   ]
  },
  {
   "cell_type": "code",
   "execution_count": 280,
   "id": "ddb2cb6e-8e61-446f-a94d-491381e29a43",
   "metadata": {},
   "outputs": [],
   "source": [
    "def load_transcript(filename):\n",
    "    loader = PyPDFLoader(os.path.join(os.getcwd(), \"ceat/transcripts\", filename))\n",
    "    pages = loader.load_and_split()\n",
    "    return pages\n",
    "\n",
    "def print_pdf(pdf_pages):\n",
    "    print(\"x\" * 100)\n",
    "    for i in pdf_pages:\n",
    "        print(i.page_content)\n",
    "        print(\"x\" * 100)\n",
    "    return \n",
    "\n",
    "# Response returned is a set of multiple json objects concatenated as a string separated by newline.\n",
    "# The long string with multiple JSON objects separated by newlines\n",
    "\n",
    "def load_res_into_dict(res):\n",
    "    response_string = response.text\n",
    "\n",
    "    # Split the string into a list of strings, each containing a JSON object\n",
    "    json_strings = response_string.strip().split('\\n')\n",
    "\n",
    "    # Initialize a list to hold the parsed JSON objects\n",
    "    json_objects = []\n",
    "\n",
    "    # Iterate over each string in the list and parse it as JSON\n",
    "    for json_str in json_strings:\n",
    "        try:\n",
    "            json_object = json.loads(json_str)\n",
    "            json_objects.append(json_object)\n",
    "        except json.JSONDecodeError as e:\n",
    "            print(f\"Failed to parse JSON: {e}\")\n",
    "            # Handle or log the error here\n",
    "\n",
    "    # Now you have a list of dictionaries representing the JSON objects\n",
    "    # print(json_objects)  # This will show you all the parsed JSON objects\n",
    "    return json_objects\n"
   ]
  },
  {
   "cell_type": "markdown",
   "id": "2d181a81-9269-46e4-8c5d-c77dab3d4c53",
   "metadata": {},
   "source": [
    "# Selenium"
   ]
  },
  {
   "cell_type": "code",
   "execution_count": 92,
   "id": "ae12afce-55bc-4b10-8d8b-04923fd62cd5",
   "metadata": {},
   "outputs": [],
   "source": [
    "# !pip install selenium"
   ]
  },
  {
   "cell_type": "code",
   "execution_count": 80,
   "id": "8f1b4445-89a0-4115-8ac9-247cc85c0172",
   "metadata": {},
   "outputs": [
    {
     "data": {
      "text/plain": [
       "['chromedriver', 'LICENSE.chromedriver']"
      ]
     },
     "execution_count": 80,
     "metadata": {},
     "output_type": "execute_result"
    }
   ],
   "source": [
    "os.listdir('./chromedriver_mac_arm64')"
   ]
  },
  {
   "cell_type": "markdown",
   "id": "35ffa5df-a269-42c0-8db8-19514c76807b",
   "metadata": {},
   "source": [
    "## Download Reports from Ceat Website"
   ]
  },
  {
   "cell_type": "code",
   "execution_count": 91,
   "id": "0c6398dc-43ff-475b-9e9d-c049a3034623",
   "metadata": {},
   "outputs": [
    {
     "name": "stdout",
     "output_type": "stream",
     "text": [
      "/Users/paruljuniwal/learning_development_Interview/product_suite/ai/fin-robo/ceat\n",
      "<selenium.webdriver.chrome.webdriver.WebDriver (session=\"1777383c826f161e4017f466c58b944c\")>\n",
      "report-urls ['https://www.ceat.com/content/dam/ceat/pdf/Annual_Reports/CEAT-Limited-Integrated-Annual-Report-FY23.pdf', 'https://www.ceat.com/content/dam/ceat/pdf/CEAT%20AR%202021-22_Spread-27.6.22.pdf', 'https://www.ceat.com/content/dam/ceat/pdf/Annual_Reports/Ceat-Limited-Integrated-Annual-Report-FY21.pdf', 'https://www.ceat.com/content/dam/ceat/pdf/Annual_Reports/CEAT%20Limited%20Integrated%20Annual%20Report%20FY20.pdf', 'https://www.ceat.com/content/dam/ceat/pdf/Annual_Reports/CEAT%20Limited%20Annual%20Report%20FY19.pdf', 'https://www.ceat.com/content/dam/ceat/pdf/Annual_Reports/CEAT%20Limited%20Annual%20Report%20FY18.pdf', 'https://www.ceat.com/content/dam/ceat/pdf/Annual_Reports/CEAT%20Limited%20Annual%20Report%20FY17.pdf', 'https://www.ceat.com/content/dam/ceat/pdf/Annual_Reports/CEAT%20Limited%20Annual%20Report%20FY16.pdf']\n",
      "postwait\n"
     ]
    }
   ],
   "source": [
    "from selenium import webdriver\n",
    "from selenium.webdriver.common.by import By\n",
    "from selenium.webdriver.common.keys import Keys\n",
    "from selenium.webdriver.support.wait import WebDriverWait\n",
    "import time\n",
    "\n",
    "# Set up the WebDriver\n",
    "download_dir = os.getcwd() + \"/ceat\"  # Change this to your desired download folder\n",
    "print(download_dir)\n",
    "os.makedirs(download_dir, exist_ok=True)\n",
    "\n",
    "# Set Chrome preferences to automate downloads\n",
    "options = Options()\n",
    "prefs = {\n",
    "        \"download.default_directory\": download_dir,\n",
    "        \"download.prompt_for_download\": False,  # To automatically download the PDF\n",
    "        # \"download.directory_upgrade\": True,\n",
    "        \"plugins.always_open_pdf_externally\": True  # It will not open the PDF in the browser\n",
    "    }\n",
    "options.add_experimental_option(\"prefs\", prefs)\n",
    "# options.add_argument(\"--headless\")\n",
    "\n",
    "    # Initialize WebDriver with options\n",
    "    # service = Service(executable_path=\"/path/to/chromedriver\")  # Update the path to where you've downloaded chromedriver\n",
    "\n",
    "\n",
    "service = Service(executable_path=\"./chromedriver_mac_arm64/chromedriver\")\n",
    "driver = webdriver.Chrome(options=options)\n",
    "print(driver)\n",
    "\n",
    "# URL of the webpage\n",
    "url = 'https://www.ceat.com/investors/annual-reports.html'\n",
    "\n",
    "# Navigate to the URL\n",
    "driver.get(url)\n",
    "\n",
    "# Extract the specific component\n",
    "# Replace 'your-css-selector' with the actual CSS selector for your component\n",
    "elements = driver.find_elements(By.CSS_SELECTOR, 'a.btn-icon')\n",
    "\n",
    "report_urls = [element.get_attribute('href') for element in elements]\n",
    "print(\"report-urls\", report_urls)\n",
    "\n",
    "if report_urls:\n",
    "    for report_url in report_urls:\n",
    "        driver.get(report_url)\n",
    "        WebDriverWait(driver, 10)\n",
    "    \n",
    "\n",
    "# download_pdf(driver, report_urls[0])    # driver.get(report_urls[0])\n",
    "print(\"postwait\")\n",
    "\n",
    "time.sleep(60)\n",
    "driver.quit()"
   ]
  },
  {
   "cell_type": "markdown",
   "id": "a8f6a803-2575-48cc-a4a0-65f83794f66f",
   "metadata": {},
   "source": [
    "## Upload PDF files and convert to structured data"
   ]
  },
  {
   "cell_type": "code",
   "execution_count": 105,
   "id": "67230617-bec5-43f1-8fc9-152b0b9c83c4",
   "metadata": {},
   "outputs": [
    {
     "name": "stdout",
     "output_type": "stream",
     "text": [
      "length: 8 ::::All reports:  ['CEAT Limited Annual Report FY17.pdf', 'CEAT Limited Annual Report FY16.pdf', 'CEAT Limited Integrated Annual Report FY20.pdf', 'CEAT Limited Annual Report FY18.pdf', 'CEAT Limited Annual Report FY19.pdf', 'CEAT AR 2021-22_Spread-27.6.22.pdf', 'Ceat-Limited-Integrated-Annual-Report-FY21.pdf', 'CEAT-Limited-Integrated-Annual-Report-FY23.pdf']\n"
     ]
    }
   ],
   "source": [
    "reports = [report for report in os.listdir(\"./ceat\") if report.endswith(\".pdf\")]\n",
    "\n",
    "print(\"length:\", len(reports), \"::::All reports: \", reports)"
   ]
  },
  {
   "cell_type": "code",
   "execution_count": 106,
   "id": "65f20772-1cda-4efa-9397-c8a8d81ca8d8",
   "metadata": {},
   "outputs": [],
   "source": [
    "from langchain_community.document_loaders import PyPDFLoader"
   ]
  },
  {
   "cell_type": "code",
   "execution_count": 109,
   "id": "61722407-73a0-4495-8d91-340684e4c532",
   "metadata": {},
   "outputs": [
    {
     "data": {
      "text/plain": [
       "'CEAT Limited Annual Report FY17.pdf'"
      ]
     },
     "execution_count": 109,
     "metadata": {},
     "output_type": "execute_result"
    }
   ],
   "source": [
    "reports[0]"
   ]
  },
  {
   "cell_type": "code",
   "execution_count": 112,
   "id": "579dd47f-6586-4e5e-b4ef-4f639726f64f",
   "metadata": {},
   "outputs": [],
   "source": [
    "loader = PyPDFLoader(os.path.join(os.getcwd(), \"ceat\", reports[0]))\n",
    "pages = loader.load_and_split()"
   ]
  },
  {
   "cell_type": "code",
   "execution_count": 113,
   "id": "09a97455-761d-4509-80f6-3c11fdc45951",
   "metadata": {},
   "outputs": [
    {
     "data": {
      "text/plain": [
       "400"
      ]
     },
     "execution_count": 113,
     "metadata": {},
     "output_type": "execute_result"
    }
   ],
   "source": [
    "len(pages)"
   ]
  },
  {
   "cell_type": "code",
   "execution_count": 123,
   "id": "febee702-d90f-457e-bf11-f5a8f144ac66",
   "metadata": {},
   "outputs": [
    {
     "data": {
      "text/plain": [
       "'TOWARDS A SAFER, \\nSMARTER TOMORROW\\nAnnual Report 2016-17'"
      ]
     },
     "execution_count": 123,
     "metadata": {},
     "output_type": "execute_result"
    }
   ],
   "source": [
    "pages[0].page_content"
   ]
  },
  {
   "cell_type": "code",
   "execution_count": null,
   "id": "bdb8b25b-9727-4778-a1fa-d40d120afcb2",
   "metadata": {},
   "outputs": [],
   "source": [
    "from pprint import pprint\n",
    "pprint(pages[1].page_content)"
   ]
  },
  {
   "cell_type": "code",
   "execution_count": 239,
   "id": "2607c098-53d2-4bda-b1a1-86dcc760df41",
   "metadata": {},
   "outputs": [],
   "source": [
    "# for i in range(0, 30):\n",
    "#     print(\"*\" * 100)\n",
    "#     pprint(pages[i].page_content)\n",
    "#     print(\"*\" * 100)"
   ]
  },
  {
   "cell_type": "code",
   "execution_count": 130,
   "id": "e30f5037-c938-4302-8ae5-794878f32ec2",
   "metadata": {},
   "outputs": [],
   "source": [
    "from autogen import ConversableAgent, AssistantAgent, UserProxyAgent"
   ]
  },
  {
   "cell_type": "code",
   "execution_count": 129,
   "id": "4f6f7d8e-0474-451f-9cde-25b5b78c61c7",
   "metadata": {},
   "outputs": [],
   "source": [
    "local_llama2_uncensored = {\n",
    "    \"model\": \"llama2-uncensored\",\n",
    "    \"base_url\": \"http://localhost:11434/v1/\",\n",
    "    \"temperature\": 0.9\n",
    "    # \"api_type\": \"openai\"\n",
    "}\n",
    "local_llama3 = {\n",
    "    \"model\": \"llama3\",\n",
    "    \"base_url\": \"http://localhost:11434/v1/\",\n",
    "    \"temperature\": 0.2,\n",
    "    \"cache_seed\": 42,\n",
    "    # \"api_type\": \"openai\"\n",
    "}"
   ]
  },
  {
   "cell_type": "code",
   "execution_count": 229,
   "id": "ad3c81ec-2e42-49a4-86c0-f6de0854af65",
   "metadata": {},
   "outputs": [],
   "source": [
    "# assistant = AssistantAgent(\n",
    "#     name=\"Assistant\",\n",
    "#     system_message=\"Only use the tools you have been provided with. Reply TERMINATE when the task is done.\",\n",
    "#     llm_config={\"config_list\": config_list, \"cache_seed\": None},\n",
    "# )\n",
    "\n",
    "# user_proxy = UserProxyAgent(\n",
    "#     name=\"user_proxy\",\n",
    "#     is_termination_msg=lambda x: x.get(\"content\", \"\") and x.get(\"content\", \"\").rstrip().endswith(\"TERMINATE\"),\n",
    "#     human_input_mode=\"TERMINATE\",\n",
    "#     max_consecutive_auto_reply=10,\n",
    "#     # code_execution_config={\"executor\": code_executor},\n",
    "# )\n",
    "\n",
    "user_proxy = ConversableAgent(\n",
    "    name=\"Editor\",\n",
    "    system_message=\"\"\"You are the admin editor overseeing the analysis. \n",
    "    Interact with the financial analyst agent to discuss the analysis. \n",
    "    Provide a feedback to the financial analyst's content on the following lines:\n",
    "    1. A detailed explantion of the points\n",
    "    2. No NSFW language\"\"\",\n",
    "    code_execution_config=False,\n",
    "    human_input_mode=\"ALWAYS\"\n",
    ")\n",
    "\n",
    "\n",
    "financial_analyst = ConversableAgent(\n",
    "    name=\"Equity Analyst\",\n",
    "    system_message=\"\"\"You’re an Equity analyst with expertise in auto and auto parts. \n",
    "    You have analysed annual developement in all tyre companies in India.  \n",
    "    How do you think work done by CEAT can help to grow its product portfolio, customer delight, growth in overall revenue \n",
    "    and profitability?\"\"\",\n",
    "    \n",
    "    # llm_config={\"config_list\": [{\"model\": \"gpt-4\", \"temperature\": 0.9, \"api_key\": os.environ.get(\"OPENAI_API_KEY\")}]},\n",
    "    llm_config={\"config_list\": [local_llama3]},\n",
    "    human_input_mode=\"NEVER\",  # Never ask for human input.\n",
    ")\n",
    "\n",
    "# Your name is Cathy. You are the most seasoned financial analyst with \n",
    "#     lots of expertise in stock market analysis and investment strategies in a company providing portfolio management \n",
    "#     and financial consultancy services for High Networth Individuals. \n",
    "#     You are tasked to analyse the report provided for a company's financials and write engaging blogpost.\n",
    "#     You try generate the best blogpost possible for the user's request. \n",
    "#     If the user provides critique, respond with a revised version of your previous attempts.\"\"\","
   ]
  },
  {
   "cell_type": "code",
   "execution_count": 194,
   "id": "9932e203-6498-48a0-9b62-162d39b5696d",
   "metadata": {},
   "outputs": [],
   "source": [
    "def get_page(idx):\n",
    "    return pages[idx]"
   ]
  },
  {
   "cell_type": "code",
   "execution_count": 230,
   "id": "276bf02a-a421-493b-9604-1b722e3d69c2",
   "metadata": {},
   "outputs": [],
   "source": [
    "# first_query = \"\"\n",
    "# for i in pages[10:27]:\n",
    "#     first_query += i.page_content\n",
    "\n",
    "# print(first_query)"
   ]
  },
  {
   "cell_type": "code",
   "execution_count": 231,
   "id": "639769ab-8139-4090-9a5a-9bd160d92788",
   "metadata": {},
   "outputs": [],
   "source": [
    "task = f\"\"\"Give me a detailed analysis of the following text from the financial report. \n",
    "Wait for me to analyse your analyse and add comments. Revise your analysis as per my comments.\n",
    "\n",
    "The content is as follows :\\n {first_query}\n",
    "\"\"\""
   ]
  },
  {
   "cell_type": "code",
   "execution_count": 196,
   "id": "9cf57a9e-b7d5-441f-b827-62d6c3283821",
   "metadata": {},
   "outputs": [],
   "source": [
    "# print(task)"
   ]
  },
  {
   "cell_type": "code",
   "execution_count": 241,
   "id": "334b5c00-db29-4d29-bfab-52443d952a53",
   "metadata": {},
   "outputs": [],
   "source": [
    "chat = user_proxy.initiate_chat(\n",
    "        financial_analyst,\n",
    "        message=task,\n",
    "        max_turns=3,\n",
    "        # cache=cache,\n",
    "    )"
   ]
  },
  {
   "cell_type": "code",
   "execution_count": 166,
   "id": "7eba0aaa-b183-41a4-9108-95233584993c",
   "metadata": {},
   "outputs": [
    {
     "name": "stdout",
     "output_type": "stream",
     "text": [
      "6\n"
     ]
    }
   ],
   "source": [
    "print(len(chat.chat_history))"
   ]
  },
  {
   "cell_type": "code",
   "execution_count": 214,
   "id": "22f5d0bc-1d91-44fc-b66f-e4d71e58ac76",
   "metadata": {},
   "outputs": [],
   "source": [
    "# for i in chat.chat_history:\n",
    "#     print(i)\n",
    "#     print(\"*\" * 100)"
   ]
  },
  {
   "cell_type": "code",
   "execution_count": 215,
   "id": "640d9707-6379-405d-bba3-89bab4da21f8",
   "metadata": {},
   "outputs": [],
   "source": [
    "# print(chat.chat_history[1][\"content\"])"
   ]
  },
  {
   "cell_type": "code",
   "execution_count": 216,
   "id": "3162fdeb-db1f-4bb7-8a5e-c9c6ce67ab4e",
   "metadata": {},
   "outputs": [],
   "source": [
    "# print(chat.chat_history[0][\"content\"])"
   ]
  },
  {
   "cell_type": "code",
   "execution_count": null,
   "id": "356acd1a-c9bd-40ff-a545-6d51fc8f8182",
   "metadata": {},
   "outputs": [],
   "source": [
    "result = joe.initiate_chat(cathy, message=\"Cathy, tell me a joke and then say goodbye.\", max_turns=3)"
   ]
  },
  {
   "cell_type": "code",
   "execution_count": null,
   "id": "94e91cf2-784b-44c3-866a-26b9e5f7330e",
   "metadata": {},
   "outputs": [],
   "source": [
    "# return Agent(\n",
    "#       role='The Best Financial Analyst',\n",
    "#       goal=\"\"\"Impress all customers with your financial data \n",
    "#       and market trends analysis\"\"\",\n",
    "#       backstory=\"\"\"The most seasoned financial analyst with \n",
    "#       lots of expertise in stock market analysis and investment\n",
    "#       strategies that is working for a super important customer.\"\"\",\n",
    "#       verbose=True,"
   ]
  },
  {
   "cell_type": "code",
   "execution_count": 242,
   "id": "8cde0390-0c40-4a5a-bbe3-b97cb521c1d4",
   "metadata": {},
   "outputs": [],
   "source": [
    "# print(pages[11].page_content)"
   ]
  },
  {
   "cell_type": "code",
   "execution_count": 243,
   "id": "e2d2736e-fe74-431e-a465-9f18770bae81",
   "metadata": {},
   "outputs": [],
   "source": [
    "# print(pages[12].page_content)"
   ]
  },
  {
   "cell_type": "markdown",
   "id": "a16d5778-c3fc-468c-aaf3-2b6b9b443c70",
   "metadata": {},
   "source": [
    "## Factual Equity Analyst"
   ]
  },
  {
   "cell_type": "code",
   "execution_count": 237,
   "id": "6c239ea8-30a9-4186-ba80-23ff8c20c315",
   "metadata": {},
   "outputs": [],
   "source": [
    "user_proxy = UserProxyAgent(\n",
    "    name=\"Admin\",\n",
    "    system_message=\"\"\"You are the admin editor overseeing the analysis and query answering. \n",
    "    Interact with the financial analyst agent to query factual data the analysis. \"\"\",\n",
    "    code_execution_config=False,\n",
    "    human_input_mode=\"NEVER\"\n",
    ")\n",
    "\n",
    "\n",
    "financial_analyst = AssistantAgent(\n",
    "    name=\"Equity Analyst\",\n",
    "    system_message= \"\"\"You’re an Equity analyst with expertise in auto and auto parts in India. \n",
    "    You have analysed annual developement in all tyre companies in India. \n",
    "    You will be provided with a document delimited by triple backticks ```  and a question. \n",
    "    Your task is to answer the question using only the provided document and to cite the passage(s) \n",
    "    of the document used to answer the question. If the document does not contain the information needed \n",
    "    to answer this question then simply write: \"Insufficient information.\n",
    "    If an answer to the question is provided, it must be annotated with a citation. \n",
    "    Use the following format for to cite relevant passages ({\"citation\": …}). \"\"\",\n",
    "    \n",
    "    # llm_config={\"config_list\": [{\"model\": \"gpt-4\", \"temperature\": 0.9, \"api_key\": os.environ.get(\"OPENAI_API_KEY\")}]},\n",
    "    llm_config={\"config_list\": [local_llama3]},\n",
    "    human_input_mode=\"NEVER\",  # Never ask for human input.\n",
    ")"
   ]
  },
  {
   "cell_type": "code",
   "execution_count": 222,
   "id": "bd120c41-951c-468e-9403-0c27b310ef70",
   "metadata": {},
   "outputs": [],
   "source": [
    "def create_prompt(page_content=\"\", question_content=\"\"):\n",
    "    prompt_template = f\"\"\" ```{page_content}``` Question: {question_content}\"\"\"\n",
    "    return prompt_template"
   ]
  },
  {
   "cell_type": "code",
   "execution_count": null,
   "id": "a4c7b986-4d51-4b1f-8ac3-678c2dd0854c",
   "metadata": {},
   "outputs": [],
   "source": []
  },
  {
   "cell_type": "code",
   "execution_count": 219,
   "id": "0ef64521-1079-4371-8ac9-a075459d5240",
   "metadata": {},
   "outputs": [],
   "source": [
    "task1 = f\"\"\" ```{pages[12].page_content}``` Question: What is the PAT for the year 2014 and 2015?\"\"\"\n",
    "task2 = f\"\"\" ```{pages[12].page_content}``` Question: What is the PAT for the year 2014 and 2015?\"\"\"\n"
   ]
  },
  {
   "cell_type": "code",
   "execution_count": 235,
   "id": "a47843d8-2664-4bcc-a856-0d39fcf994e9",
   "metadata": {},
   "outputs": [],
   "source": [
    "task2 = create_prompt(pages[12].page_content, \"What is the EPS for the year 2017?\")\n",
    "# print(task2)"
   ]
  },
  {
   "cell_type": "code",
   "execution_count": 238,
   "id": "bc3e65c1-be10-49f0-854e-c797269b4794",
   "metadata": {},
   "outputs": [],
   "source": [
    "chat = user_proxy.initiate_chat(\n",
    "        financial_analyst,\n",
    "        message=task2,\n",
    "        max_turns=3,\n",
    "        # cache=cache,\n",
    ")"
   ]
  },
  {
   "cell_type": "markdown",
   "id": "f5b0e305-6699-45a9-9ab0-9b19671a66d3",
   "metadata": {},
   "source": [
    "# Simple Chat interface with llama3"
   ]
  },
  {
   "cell_type": "markdown",
   "id": "b5f7c5de-0aa3-4385-b909-e86fa533d12d",
   "metadata": {},
   "source": [
    "## Transcripts of Conference Call - Jan 2024"
   ]
  },
  {
   "cell_type": "code",
   "execution_count": 247,
   "id": "96d14829-61b1-49b5-a084-811306dae13c",
   "metadata": {},
   "outputs": [
    {
     "data": {
      "text/plain": [
       "['Emkay-CEAT-25Jan-2024.pdf']"
      ]
     },
     "execution_count": 247,
     "metadata": {},
     "output_type": "execute_result"
    }
   ],
   "source": [
    "# Files\n",
    "transcripts = os.listdir(\"./ceat/transcripts/\")\n",
    "transcripts"
   ]
  },
  {
   "cell_type": "code",
   "execution_count": 251,
   "id": "1f3be703-ba76-4910-b788-cfd870d268c4",
   "metadata": {},
   "outputs": [],
   "source": [
    "transcript_24 = load_transcript(transcripts[0])"
   ]
  },
  {
   "cell_type": "code",
   "execution_count": 260,
   "id": "b684eaec-12dc-4f5d-aa95-10dd37a845b2",
   "metadata": {},
   "outputs": [],
   "source": [
    "# print_pdf(transcript_24)"
   ]
  },
  {
   "cell_type": "markdown",
   "id": "3af9fa52-bc52-4364-8ad6-1a6a3caada24",
   "metadata": {},
   "source": [
    "### Simple Chat Setup with Llama3 hosted locally"
   ]
  },
  {
   "cell_type": "code",
   "execution_count": 261,
   "id": "7773e687-0fc3-4b6a-820d-fccd66e03a33",
   "metadata": {},
   "outputs": [],
   "source": [
    "import json"
   ]
  },
  {
   "cell_type": "code",
   "execution_count": 289,
   "id": "f7ba3c9d-66ea-4560-a1f5-98e59fb38f4f",
   "metadata": {},
   "outputs": [],
   "source": [
    "\n",
    "\n",
    "\n",
    "You will be provided with a thesis abstract and a suggested title for it. \n",
    "The thesis title should give the reader a good idea of the topic of the thesis but should also be eye-catching. If the title does not meet these criteria, suggest 5 alternatives."
   ]
  },
  {
   "cell_type": "code",
   "execution_count": 293,
   "id": "c06936b0-b08e-4207-9c14-559db99a893e",
   "metadata": {},
   "outputs": [],
   "source": [
    "# print(json.loads(response.text))"
   ]
  },
  {
   "cell_type": "code",
   "execution_count": 291,
   "id": "141a44ba-8e6c-4f25-8646-f7d11a15ffe1",
   "metadata": {},
   "outputs": [
    {
     "name": "stdout",
     "output_type": "stream",
     "text": [
      "367\n"
     ]
    }
   ],
   "source": [
    "response_dict = load_res_into_dict(response.text)\n",
    "print(len(response_dict))"
   ]
  },
  {
   "cell_type": "code",
   "execution_count": 295,
   "id": "caf1bd37-ec12-48aa-b5e7-37535d05edeb",
   "metadata": {},
   "outputs": [
    {
     "data": {
      "text/plain": [
       "list"
      ]
     },
     "execution_count": 295,
     "metadata": {},
     "output_type": "execute_result"
    }
   ],
   "source": [
    "type(transcript_24)\n",
    "# transcript_24[0].page_content"
   ]
  },
  {
   "cell_type": "code",
   "execution_count": 303,
   "id": "56d4bf45-d494-4ebe-b630-244aa1ed4bb6",
   "metadata": {},
   "outputs": [],
   "source": []
  },
  {
   "cell_type": "code",
   "execution_count": 315,
   "id": "d1928fb6-3b12-4b8f-9586-7517451a0bd5",
   "metadata": {},
   "outputs": [],
   "source": [
    "transcript_24_str = \"\".join([f':::{doc.page_content}:::' for doc in transcript_24]) + \"Question: What is the total cpex for FY24?\""
   ]
  },
  {
   "cell_type": "code",
   "execution_count": 316,
   "id": "b604d114-8575-4533-80bf-20a0e7349175",
   "metadata": {},
   "outputs": [
    {
     "data": {
      "text/plain": [
       "'::'"
      ]
     },
     "execution_count": 316,
     "metadata": {},
     "output_type": "execute_result"
    }
   ],
   "source": [
    "transcript_24_str[0:2]"
   ]
  },
  {
   "cell_type": "code",
   "execution_count": 326,
   "id": "cfbdb768-5f19-4e24-973f-59705f44e4ee",
   "metadata": {},
   "outputs": [],
   "source": [
    "response = requests.post(\"http://localhost:11434/api/generate\", data=json.dumps({\n",
    "  \"model\": \"llama3\",\n",
    "  \"system\": \"\"\"You are a seasoned financial analyst with lots of expertise in stock market analysis, company financials and investment\n",
    "      strategies that is working for a super important customer. \n",
    "      You will be provided with a transcript of earnings call of company named CEAT. \n",
    "      Use the provided transcripts delimited by triple colons ::: to answer questions.\n",
    "      Go step by step and analyse each transcript individually before answering.\n",
    "      If the answer cannot be found in the articles, write \"I could not find an answer.\"\"\",\n",
    "  \"prompt\": transcript_24_str,\n",
    "}))"
   ]
  },
  {
   "cell_type": "code",
   "execution_count": 327,
   "id": "8458640f-b748-4824-b874-2b9fde7876ba",
   "metadata": {},
   "outputs": [
    {
     "name": "stdout",
     "output_type": "stream",
     "text": [
      "99\n"
     ]
    }
   ],
   "source": [
    "response_dict = load_res_into_dict(response.text)\n",
    "print(len(response_dict))"
   ]
  },
  {
   "cell_type": "code",
   "execution_count": 293,
   "id": "2410d944-cc7e-453c-9760-1d6535de1577",
   "metadata": {},
   "outputs": [],
   "source": [
    "# print(response_dict)"
   ]
  },
  {
   "cell_type": "code",
   "execution_count": 328,
   "id": "eafac675-40b8-463a-864d-97f11f8aad00",
   "metadata": {},
   "outputs": [
    {
     "name": "stdout",
     "output_type": "stream",
     "text": [
      "The answer is not provided in the transcript. However, we can see that CEAT Limited has planned investments in new product development, consumer outreach in local markets, and capacity expansion to drive growth. The company also mentions a 5-year road map for product planning, but specific details about capital expenditures (capex) are not mentioned. To get an answer to this question, I would recommend contacting CEAT Limited's investor relations department or reviewing their annual report or financial statements for FY24.\n"
     ]
    }
   ],
   "source": [
    "answer = [element.get(\"response\") for element in response_dict]\n",
    "print(\"\".join(answer))"
   ]
  },
  {
   "cell_type": "markdown",
   "id": "4938c2d6-468a-452e-9d97-e13e4b09f677",
   "metadata": {},
   "source": [
    "## Finetuning\n",
    "\n",
    "- Reference: https://colab.research.google.com/drive/135ced7oHytdxu3N2DNe1Z0kqjyYIkDXp?usp=sharing"
   ]
  },
  {
   "cell_type": "code",
   "execution_count": null,
   "id": "45a0b11c-e2e4-4ccc-b4bc-648962445542",
   "metadata": {},
   "outputs": [],
   "source": [
    "alpaca_prompt = \"\"\"\n",
    "Below is an instruction that describes a task, paired with an input that provides further context.\n",
    "Write a response that appropriately completes the request.\n",
    "### Instruction:\n",
    "{}\n",
    "\n",
    "### Input:\n",
    "{}\n",
    "\n",
    "### Response:\n",
    "{}\n",
    "\"\"\"\n",
    "\n",
    "## Different prompt templating languages available including ChatML\n",
    "## Use SFTTrainer - SupervisedFintuning Trainer from HuggingFace Transformers\n"
   ]
  },
  {
   "cell_type": "markdown",
   "id": "3114e113-c632-4de6-95d2-e40c6a0c06d4",
   "metadata": {},
   "source": [
    "# Create a Dataset using LLM for finetuning llama3\n",
    "- \"\"\"Create a dataset that contains concept prompt pair. For each of the concept like 'Current EBITDA', create a detailed description that can be used by a GPT working as financial analyst to analyse the concept and answer user queries.\"\"\""
   ]
  },
  {
   "cell_type": "code",
   "execution_count": 2,
   "id": "3d29e87c-7604-4620-b185-eac0f2970e82",
   "metadata": {},
   "outputs": [],
   "source": [
    "import os"
   ]
  },
  {
   "cell_type": "code",
   "execution_count": 9,
   "id": "dac60069-cfed-4a4b-ac3e-e70b4e423e3a",
   "metadata": {},
   "outputs": [
    {
     "data": {
      "text/plain": [
       "['.DS_Store',\n",
       " 'ceat',\n",
       " 'chromedriver_mac_arm64',\n",
       " 'README.md',\n",
       " 'chromedriver_mac_arm64.zip',\n",
       " '.gitignore',\n",
       " 'QuantumAlpha.ipynb',\n",
       " '.ipynb_checkpoints',\n",
       " '.git',\n",
       " '.cache']"
      ]
     },
     "execution_count": 9,
     "metadata": {},
     "output_type": "execute_result"
    }
   ],
   "source": [
    "os.listdir()"
   ]
  },
  {
   "cell_type": "markdown",
   "id": "f2e6feba-2286-415a-ba27-0c0c5e02d972",
   "metadata": {},
   "source": [
    "# 7th May 2024: RAG pipeline fro CEAT reports - V1"
   ]
  },
  {
   "cell_type": "code",
   "execution_count": 1,
   "id": "df9f38e8-ea76-4031-8ac9-0afc27dcfe9e",
   "metadata": {},
   "outputs": [],
   "source": [
    "from langchain.document_loaders.pdf import PyPDFDirectoryLoader\n",
    "from langchain_text_splitters import RecursiveCharacterTextSplitter\n",
    "from langchain.schema.document import Document\n",
    "from langchain.vectorstores.chroma import Chroma\n"
   ]
  },
  {
   "cell_type": "code",
   "execution_count": 288,
   "id": "842ca66f-44e8-4982-8d4b-ca68df086b99",
   "metadata": {},
   "outputs": [],
   "source": [
    "DATA_PATH = \"ceat\"\n",
    "CHROMA_PATH = \"chroma\""
   ]
  },
  {
   "cell_type": "code",
   "execution_count": 12,
   "id": "9678fc6f-1c3f-41ab-bbae-d6273ab03ea0",
   "metadata": {},
   "outputs": [],
   "source": []
  },
  {
   "cell_type": "code",
   "execution_count": 13,
   "id": "38d4b0a5-81b1-41a8-bea1-9c34a829a748",
   "metadata": {},
   "outputs": [],
   "source": [
    "def clear_database():\n",
    "    if os.path.exists(CHROMA_PATH):\n",
    "        shutil.rmtree(CHROMA_PATH)"
   ]
  },
  {
   "cell_type": "code",
   "execution_count": null,
   "id": "86a4ece2-a7b0-48d4-b67d-2cb89818fc22",
   "metadata": {},
   "outputs": [],
   "source": []
  },
  {
   "cell_type": "code",
   "execution_count": 6,
   "id": "8ebe3b7b-16c1-4a0e-82ad-ee8124dc7be3",
   "metadata": {},
   "outputs": [],
   "source": [
    "def load_documents():\n",
    "    document_loader = PyPDFDirectoryLoader(DATA_PATH)\n",
    "    return document_loader.load()"
   ]
  },
  {
   "cell_type": "code",
   "execution_count": 7,
   "id": "6c0ca304-db65-4b1f-bb1e-f97ef803b205",
   "metadata": {},
   "outputs": [],
   "source": [
    "def split_documents(documents: list[Document]):\n",
    "    text_splitter = RecursiveCharacterTextSplitter(\n",
    "        chunk_size=800,\n",
    "        chunk_overlap=80,\n",
    "        length_function=len,\n",
    "        is_separator_regex=False,\n",
    "    )\n",
    "    return text_splitter.split_documents(documents)"
   ]
  },
  {
   "cell_type": "code",
   "execution_count": 15,
   "id": "666f5c29-d31f-42c5-affe-d65daa6a9322",
   "metadata": {},
   "outputs": [],
   "source": [
    "def add_to_chroma(chunks: list[Document]):\n",
    "    # Load the existing database.\n",
    "    db = Chroma(\n",
    "        persist_directory=CHROMA_PATH, embedding_function=get_embedding_function()\n",
    "    )\n",
    "\n",
    "    # Calculate Page IDs.\n",
    "    chunks_with_ids = calculate_chunk_ids(chunks)\n",
    "\n",
    "    # Add or Update the documents.\n",
    "    existing_items = db.get(include=[])  # IDs are always included by default\n",
    "    existing_ids = set(existing_items[\"ids\"])\n",
    "    print(f\"Number of existing documents in DB: {len(existing_ids)}\")\n",
    "\n",
    "    # Only add documents that don't exist in the DB.\n",
    "    new_chunks = []\n",
    "    for chunk in chunks_with_ids:\n",
    "        if chunk.metadata[\"id\"] not in existing_ids:\n",
    "            new_chunks.append(chunk)\n",
    "    \n",
    "    if len(new_chunks):\n",
    "        print(f\"👉 Adding new documents: {len(new_chunks)}\")\n",
    "        new_chunk_ids = [chunk.metadata[\"id\"] for chunk in new_chunks]\n",
    "        # print(\"new_chunk_ids:\", new_chunk_ids.split(\".pdf:\")[-1])\n",
    "        db.add_documents(new_chunks, ids=new_chunk_ids)\n",
    "        db.persist()\n",
    "    else:\n",
    "        print(\"✅ No new documents to add\")"
   ]
  },
  {
   "cell_type": "code",
   "execution_count": 14,
   "id": "4d4e9285-2948-4e6c-b660-780b4e81ad53",
   "metadata": {},
   "outputs": [],
   "source": [
    "def calculate_chunk_ids(chunks):\n",
    "\n",
    "    # This will create IDs like \"data/monopoly.pdf:6:2\"\n",
    "    # Page Source : Page Number : Chunk Index\n",
    "\n",
    "    last_page_id = None\n",
    "    current_chunk_index = 0\n",
    "\n",
    "    for chunk in chunks:\n",
    "        source = chunk.metadata.get(\"source\")\n",
    "        page = chunk.metadata.get(\"page\")\n",
    "        current_page_id = f\"{source}:{page}\"\n",
    "\n",
    "        # If the page ID is the same as the last one, increment the index.\n",
    "        if current_page_id == last_page_id:\n",
    "            current_chunk_index += 1\n",
    "        else:\n",
    "            current_chunk_index = 0\n",
    "\n",
    "        # Calculate the chunk ID.\n",
    "        chunk_id = f\"{current_page_id}:{current_chunk_index}\"\n",
    "        last_page_id = current_page_id\n",
    "\n",
    "        # Add it to the page meta-data.\n",
    "        chunk.metadata[\"id\"] = chunk_id\n",
    "\n",
    "    return chunks"
   ]
  },
  {
   "cell_type": "code",
   "execution_count": 10,
   "id": "f74385fa-ef79-446e-897f-90dd1c160903",
   "metadata": {},
   "outputs": [],
   "source": [
    "from langchain_community.embeddings.ollama import OllamaEmbeddings"
   ]
  },
  {
   "cell_type": "code",
   "execution_count": 11,
   "id": "d28fceb4-b663-4f3e-adcc-4ca2d7f64a82",
   "metadata": {},
   "outputs": [],
   "source": [
    "def get_embedding_function():\n",
    "    embeddings = OllamaEmbeddings(model=\"llama3\", base_url=\"http://localhost:11434\")\n",
    "    return embeddings"
   ]
  },
  {
   "cell_type": "code",
   "execution_count": null,
   "id": "9d24e83d-9696-4444-832f-a9b27e7f0fd6",
   "metadata": {},
   "outputs": [],
   "source": [
    "def main(clear_db=false):\n",
    "    if (clear_db):\n",
    "        print(\"✨ Clearing Database\")\n",
    "        clear_database()\n",
    "    # Create or update data store\n",
    "    documents = load_documents()\n",
    "    chunks = split_documents(documents)\n",
    "    add_to_chroma(chunks)"
   ]
  },
  {
   "cell_type": "markdown",
   "id": "3be6b658-aa66-4609-9ea2-a477143fc99e",
   "metadata": {},
   "source": [
    "# Testing individual functions"
   ]
  },
  {
   "cell_type": "code",
   "execution_count": 16,
   "id": "ce1f1c86-7533-46fb-85ce-9e4ee772119e",
   "metadata": {},
   "outputs": [],
   "source": [
    "documents = load_documents()"
   ]
  },
  {
   "cell_type": "code",
   "execution_count": 17,
   "id": "9a685ba5-c928-459b-be44-9cafab19998e",
   "metadata": {},
   "outputs": [
    {
     "data": {
      "text/plain": [
       "1772"
      ]
     },
     "execution_count": 17,
     "metadata": {},
     "output_type": "execute_result"
    }
   ],
   "source": [
    "len(documents)"
   ]
  },
  {
   "cell_type": "code",
   "execution_count": 36,
   "id": "7e7950d1-d1e9-40f6-9289-28052ccb370c",
   "metadata": {},
   "outputs": [
    {
     "data": {
      "text/plain": [
       "Document(page_content='CEAT LIMITED\\nRPG HOUSE463, DR ANNIE BESANT ROAD, WORLI  MUMBAI - 400 030\\nWWW.CEAT .COM\\nMaking \\nMobility Safer & S\\nMarter. \\nevery d\\nay.\\nMaking Mobility Safer & S Marter. every day.', metadata={'source': 'ceat/CEAT Limited Annual Report FY16.pdf', 'page': 0})"
      ]
     },
     "execution_count": 36,
     "metadata": {},
     "output_type": "execute_result"
    }
   ],
   "source": [
    "documents[316]"
   ]
  },
  {
   "cell_type": "code",
   "execution_count": 37,
   "id": "78d7717b-b5f3-4f00-8239-60f7998a27bc",
   "metadata": {},
   "outputs": [],
   "source": [
    "chunks = split_documents(documents)"
   ]
  },
  {
   "cell_type": "code",
   "execution_count": 38,
   "id": "9ed312de-a56c-40f9-86b2-0a952cddb311",
   "metadata": {},
   "outputs": [
    {
     "data": {
      "text/plain": [
       "11455"
      ]
     },
     "execution_count": 38,
     "metadata": {},
     "output_type": "execute_result"
    }
   ],
   "source": [
    "len(chunks)"
   ]
  },
  {
   "cell_type": "code",
   "execution_count": 54,
   "id": "6890051b-ff14-450e-b1e7-f2a14f533eab",
   "metadata": {},
   "outputs": [
    {
     "data": {
      "text/plain": [
       "{'source': 'ceat/CEAT Limited Annual Report FY17.pdf',\n",
       " 'page': 6,\n",
       " 'id': 'ceat/CEAT Limited Annual Report FY17.pdf:6:2'}"
      ]
     },
     "execution_count": 54,
     "metadata": {},
     "output_type": "execute_result"
    }
   ],
   "source": [
    "chunks[13].metadata"
   ]
  },
  {
   "cell_type": "code",
   "execution_count": 65,
   "id": "bad82df9-ea41-4e0d-9b85-1852e4657269",
   "metadata": {},
   "outputs": [
    {
     "name": "stdout",
     "output_type": "stream",
     "text": [
      "Number of existing documents in DB: 0\n",
      "👉 Adding new documents: 11455\n"
     ]
    }
   ],
   "source": [
    "add_to_chroma(chunks)"
   ]
  },
  {
   "cell_type": "code",
   "execution_count": 56,
   "id": "46be7654-02d5-4f98-a10b-485d63d33886",
   "metadata": {},
   "outputs": [],
   "source": [
    "import requests\n",
    "import json"
   ]
  },
  {
   "cell_type": "code",
   "execution_count": 15,
   "id": "5d420545-330e-4dd1-b0bf-e881a6a5a9ab",
   "metadata": {},
   "outputs": [],
   "source": [
    "url = 'http://localhost:11434/api/generate'\n",
    "\n",
    "# Data payload as a dictionary\n",
    "data = {\n",
    "    \"model\": \"llama3\",\n",
    "    \"prompt\": \"Why is the sky blue?\"\n",
    "}\n",
    "\n",
    "headers = {'Content-Type': 'application/json'}\n",
    "\n",
    "# Make a POST request\n",
    "response = requests.post(url, data=json.dumps(data), headers=headers)\n",
    "\n",
    "# Print the response text (JSON response)\n",
    "# print(response.text)"
   ]
  },
  {
   "cell_type": "code",
   "execution_count": 58,
   "id": "a539d4d5-24d9-4ae9-bed9-b073f7f7fbbc",
   "metadata": {},
   "outputs": [],
   "source": [
    "e = get_embedding_function()"
   ]
  },
  {
   "cell_type": "code",
   "execution_count": 59,
   "id": "fc7e33a1-d379-4cfa-b723-97b09aaf48b5",
   "metadata": {},
   "outputs": [],
   "source": [
    "r2 = e.embed_query(\"What is the second letter of Greek alphabet\")"
   ]
  },
  {
   "cell_type": "code",
   "execution_count": 61,
   "id": "a7970f9a-600a-42f7-8142-e95168a14b04",
   "metadata": {},
   "outputs": [
    {
     "name": "stdout",
     "output_type": "stream",
     "text": [
      "4096\n"
     ]
    }
   ],
   "source": [
    "print(len(r2))"
   ]
  },
  {
   "cell_type": "code",
   "execution_count": 62,
   "id": "331e1b97-641a-40c1-8eb5-c0d284fb23ce",
   "metadata": {},
   "outputs": [],
   "source": [
    "chunk_embed = e.embed_documents(chunks[0:2])"
   ]
  },
  {
   "cell_type": "code",
   "execution_count": 64,
   "id": "c49134ec-485f-42fe-9710-61d51ee3a031",
   "metadata": {},
   "outputs": [
    {
     "name": "stdout",
     "output_type": "stream",
     "text": [
      "4096\n"
     ]
    }
   ],
   "source": [
    "print(len(chunk_embed[0]))"
   ]
  },
  {
   "cell_type": "markdown",
   "id": "d3342194-cd6e-4450-83f4-835a6c35863d",
   "metadata": {},
   "source": [
    "### Combined Text for Embedding:\n",
    "\"China accounts for one-third of the global tyre industry and developments there have huge global implications. \n",
    "The Chinese tyre market faced tough challenges. Tags: China tyre market, global impact, market challenges.\""
   ]
  },
  {
   "cell_type": "code",
   "execution_count": 352,
   "id": "ef9d2a34-aa1e-4ae7-8089-d2a578e78317",
   "metadata": {},
   "outputs": [],
   "source": [
    "# for i in range(0, 10):\n",
    "#     print(\"*\" * 100, \"page:\", i+1)\n",
    "#     print(documents[i].page_content)\n",
    "#     print(\"*\" * 100)"
   ]
  },
  {
   "cell_type": "code",
   "execution_count": 76,
   "id": "b6e599b7-1fbb-4ccf-8740-91fd4db83002",
   "metadata": {},
   "outputs": [],
   "source": [
    "from langchain.prompts import ChatPromptTemplate"
   ]
  },
  {
   "cell_type": "code",
   "execution_count": null,
   "id": "d4eb6b15-3c53-455c-b379-43e70f90fd01",
   "metadata": {},
   "outputs": [],
   "source": [
    "# The following is an excerpt from annual financial report of a tyre manufacturing company called CEAT in India.\n",
    "# Annotate and label the following excerpt in triple quotes in a structured way so that it can be used in RAG."
   ]
  },
  {
   "cell_type": "code",
   "execution_count": 164,
   "id": "f79834be-aef0-4520-a851-b0149bc24a72",
   "metadata": {},
   "outputs": [],
   "source": [
    "PROMPT_TEMPLATE = \"\"\"\n",
    "You are a equity research analyst.\n",
    "You have to structure, annotate and tag the provided annual financial report of a company CEAT which manufactures tyres in India. \n",
    "The annotated text with tags with be used to create embeddings for Retrieval Augmented Generation.\n",
    "Analyse the excerpt and provide a list of comprehensive annotations and tags for the given document.\n",
    "\n",
    "{excerpt}\n",
    "\n",
    "---\n",
    "Use the tags provided in the structure as follows:\n",
    "{tags}\n",
    "\n",
    "Provide the structured, annotated and labelled response as json\n",
    "\"\"\"\n"
   ]
  },
  {
   "cell_type": "code",
   "execution_count": 165,
   "id": "310cb2c5-fdff-4926-bc89-ebf777d7c44c",
   "metadata": {},
   "outputs": [],
   "source": [
    "def create_prompt(excerpt, prompt_template):\n",
    "    excerpt_text = f'\"\"\"{excerpt}\"\"\"'\n",
    "    prompt_template = ChatPromptTemplate.from_template(prompt_template)\n",
    "    prompt = prompt_template.format(excerpt=excerpt_text, tags=tags)\n",
    "    # print(prompt)\n",
    "    # print(\"*\" * 100)\n",
    "    return prompt\n",
    "    "
   ]
  },
  {
   "cell_type": "code",
   "execution_count": 155,
   "id": "605ff61e-3d2e-469e-adb8-66d70ae778a3",
   "metadata": {},
   "outputs": [],
   "source": [
    "annotated_json_texts_v2 = []"
   ]
  },
  {
   "cell_type": "code",
   "execution_count": 353,
   "id": "9cda1af3-14b4-4cb4-8b6b-440b8936818d",
   "metadata": {},
   "outputs": [],
   "source": [
    "model = Ollama(model=\"llama3\", base_url=\"http://localhost:11434\")\n",
    "for doc in documents[0:10]:\n",
    "    annotation_prompt = create_prompt(doc.page_content, PROMPT_TEMPLATE)\n",
    "    annotated_text = model.invoke(annotation_prompt)\n",
    "\n",
    "    # json_prompt = create_prompt(annotated_text, JSON_PARSER_PROMPT_TEMPLATE)\n",
    "    # json_text = model.invoke(json_prompt)\n",
    "    # print(\"json_text:\", json_text)\n",
    "    # annotated_dict = json.loads(json_text)\n",
    "    annotated_json_texts_v2.append(annotated_text)\n",
    "    "
   ]
  },
  {
   "cell_type": "code",
   "execution_count": 148,
   "id": "3fe8c265-f66e-4aa7-9a44-d63a678ee69b",
   "metadata": {},
   "outputs": [
    {
     "data": {
      "text/plain": [
       "9"
      ]
     },
     "execution_count": 148,
     "metadata": {},
     "output_type": "execute_result"
    }
   ],
   "source": [
    "len(annotated_json_texts)"
   ]
  },
  {
   "cell_type": "code",
   "execution_count": 354,
   "id": "aabeef50-1a76-4407-8657-3b6d6493b8b3",
   "metadata": {},
   "outputs": [],
   "source": [
    "# for i in annotated_json_texts:\n",
    "#     print(i)\n",
    "#     print(\"x\" * 100)"
   ]
  },
  {
   "cell_type": "code",
   "execution_count": 83,
   "id": "8f144c8d-699c-4b67-af01-4ebf6a9d4d2b",
   "metadata": {},
   "outputs": [],
   "source": [
    "from langchain_community.llms import Ollama"
   ]
  },
  {
   "cell_type": "code",
   "execution_count": 355,
   "id": "c33eddca-b2e1-4ffc-be8e-d2cdda880fcf",
   "metadata": {},
   "outputs": [],
   "source": [
    "# print(response_text.split(\"```\")[1])"
   ]
  },
  {
   "cell_type": "code",
   "execution_count": 132,
   "id": "4ace1e96-a10f-4165-931d-b20c8097c728",
   "metadata": {},
   "outputs": [],
   "source": [
    "# response_text"
   ]
  },
  {
   "cell_type": "code",
   "execution_count": 122,
   "id": "8f77e434-f1a4-4025-aef7-6e3a3bf2dae9",
   "metadata": {},
   "outputs": [],
   "source": [
    "JSON_PARSER_PROMPT_TEMPLATE = \"\"\"\n",
    "Extract and return the json present in the following text present in triple quotes. Do not return any other text like 'here is the returned json'. Only return pure json\n",
    "\n",
    "{excerpt}\n",
    "----------\n",
    "{output}\n",
    "\n",
    "\"\"\""
   ]
  },
  {
   "cell_type": "code",
   "execution_count": 133,
   "id": "4b6acbd7-4a4f-4bf9-bc57-2406b5ecc826",
   "metadata": {},
   "outputs": [],
   "source": [
    "# json_prompt = create_prompt(response_text, JSON_PARSER_PROMPT_TEMPLATE)"
   ]
  },
  {
   "cell_type": "code",
   "execution_count": 134,
   "id": "e18c69ab-12e1-49ab-860a-22b99d8e990f",
   "metadata": {},
   "outputs": [],
   "source": [
    "# res = model.invoke(json_prompt)\n",
    "# print(res)"
   ]
  },
  {
   "cell_type": "code",
   "execution_count": 135,
   "id": "0d1bb5e7-cfaf-4b22-9b29-c584fe482576",
   "metadata": {},
   "outputs": [],
   "source": [
    "# json.loads(res)"
   ]
  },
  {
   "cell_type": "code",
   "execution_count": 14,
   "id": "15c6c085-57d2-43de-a007-453df4e032e2",
   "metadata": {},
   "outputs": [],
   "source": [
    "# for element in annotated_json_texts_v2:\n",
    "#     print(\"x\" * 100)\n",
    "#     print(element)\n",
    "#     print(\"x\" * 100)\n",
    "    "
   ]
  },
  {
   "cell_type": "code",
   "execution_count": 159,
   "id": "76f65adb-1444-4a7c-bced-47e78bfa7389",
   "metadata": {},
   "outputs": [],
   "source": [
    "tags = {\n",
    "    \"ExecutiveSummary\": {\n",
    "        \"Annotations\": \"Brief overview of the year's achievements, financial health, and strategic directions.\",\n",
    "        \"Tags\": [\"Executive Summary\", \"Annual Highlights\", \"CEO Message\"]\n",
    "    },\n",
    "    \"FinancialStatements\": {\n",
    "        \"Annotations\": \"Detailed reports including income statements, balance sheets, cash flow statements, and equity changes.\",\n",
    "        \"Tags\": [\"Financial Statements\", \"Income Statement\", \"Balance Sheet\", \"Cash Flow\"]\n",
    "    },\n",
    "    \"FinancialPerformanceAnalysis\": {\n",
    "        \"Annotations\": \"In-depth analysis of financial results, including profitability, revenue growth, expense management, and earnings.\",\n",
    "        \"Tags\": [\"Financial Performance\", \"Revenue Growth\", \"Profitability Analysis\", \"Expense Management\"]\n",
    "    },\n",
    "    \"MarketAndIndustryOverview\": {\n",
    "        \"Annotations\": \"Analysis of the market conditions, industry trends, competitive landscape, and economic impacts.\",\n",
    "        \"Tags\": [\"Market Overview\", \"Industry Trends\", \"Competitive Landscape\", \"Economic Impact\"]\n",
    "    },\n",
    "    \"RiskManagement\": {\n",
    "        \"Annotations\": \"Discussion on financial and operational risks, mitigation strategies, and regulatory compliance.\",\n",
    "        \"Tags\": [\"Risk Management\", \"Operational Risks\", \"Regulatory Compliance\", \"Risk Mitigation\"]\n",
    "    },\n",
    "    \"CorporateGovernance\": {\n",
    "        \"Annotations\": \"Information on corporate governance practices, board composition, and executive management.\",\n",
    "        \"Tags\": [\"Corporate Governance\", \"Board of Directors\", \"Governance Practices\"]\n",
    "    },\n",
    "    \"ResearchAndDevelopment\": {\n",
    "        \"Annotations\": \"Insights into R&D activities, innovation efforts, and new product development.\",\n",
    "        \"Tags\": [\"Research and Development\", \"Innovation\", \"Product Development\"]\n",
    "    },\n",
    "    \"StrategicInitiatives\": {\n",
    "        \"Annotations\": \"Details on strategic plans, mergers and acquisitions, market expansion, and new business ventures.\",\n",
    "        \"Tags\": [\"Strategic Initiatives\", \"Mergers and Acquisitions\", \"Market Expansion\"]\n",
    "    },\n",
    "    \"SustainabilityAndCSR\": {\n",
    "        \"Annotations\": \"Efforts and achievements in sustainability, environmental impact, corporate social responsibility initiatives.\",\n",
    "        \"Tags\": [\"Sustainability\", \"Environmental Impact\", \"Corporate Social Responsibility\"]\n",
    "    },\n",
    "    \"HumanResources\": {\n",
    "        \"Annotations\": \"Updates on human resources policies, employee relations, new hires, training and development.\",\n",
    "        \"Tags\": [\"Human Resources\", \"Employee Relations\", \"Training and Development\"]\n",
    "    },\n",
    "    \"LegalProceedings\": {\n",
    "        \"Annotations\": \"Information on any significant legal issues or proceedings involving the company.\",\n",
    "        \"Tags\": [\"Legal Proceedings\", \"Regulatory Issues\", \"Compliance\"]\n",
    "    },\n",
    "    \"FutureOutlook\": {\n",
    "        \"Annotations\": \"Projections for the future performance, expected market conditions, and strategic directions.\",\n",
    "        \"Tags\": [\"Future Outlook\", \"Performance Projections\", \"Market Projections\"]\n",
    "    },\n",
    "    \"AppendicesAndSupplementaryInformation\": {\n",
    "        \"Annotations\": \"Additional data, methodological explanations, glossaries, and other supplementary details.\",\n",
    "        \"Tags\": [\"Appendices\", \"Supplementary Information\", \"Glossaries\"]\n",
    "    }\n",
    "}\n"
   ]
  },
  {
   "cell_type": "code",
   "execution_count": 163,
   "id": "90e8a5ef-6ce8-41af-8535-0ed61c619ae0",
   "metadata": {},
   "outputs": [
    {
     "data": {
      "text/plain": [
       "['Executive Summary', 'Annual Highlights', 'CEO Message']"
      ]
     },
     "execution_count": 163,
     "metadata": {},
     "output_type": "execute_result"
    }
   ],
   "source": [
    "tags[\"ExecutiveSummary\"][\"Tags\"]"
   ]
  },
  {
   "cell_type": "code",
   "execution_count": 169,
   "id": "5326a3ff-54c1-4ecb-a9a2-9f548868a450",
   "metadata": {},
   "outputs": [],
   "source": [
    "annotated_json_texts_v3 = []\n",
    "\n",
    "model = Ollama(model=\"llama3\", base_url=\"http://localhost:11434\")\n",
    "for doc in documents[0:100]:\n",
    "    annotation_prompt = create_prompt(doc.page_content, PROMPT_TEMPLATE)\n",
    "    annotated_text = model.invoke(annotation_prompt)\n",
    "\n",
    "    # json_prompt = create_prompt(annotated_text, JSON_PARSER_PROMPT_TEMPLATE)\n",
    "    # json_text = model.invoke(json_prompt)\n",
    "    # print(\"json_text:\", json_text)\n",
    "    # annotated_dict = json.loads(json_text)\n",
    "    annotated_json_texts_v3.append(annotated_text)\n",
    "    "
   ]
  },
  {
   "cell_type": "code",
   "execution_count": 16,
   "id": "8a56f1f2-8820-4e5b-8939-55f7673e2c05",
   "metadata": {},
   "outputs": [],
   "source": [
    "# print(annotated_json_texts_v3[0])"
   ]
  },
  {
   "cell_type": "code",
   "execution_count": 172,
   "id": "9b7ebd0b-06d3-419e-b314-3ed81c531bc6",
   "metadata": {},
   "outputs": [
    {
     "name": "stdout",
     "output_type": "stream",
     "text": [
      "Data successfully written to annotated_text.json\n"
     ]
    }
   ],
   "source": [
    "file_path = 'annotated_text.json'\n",
    "\n",
    "# Write JSON data to a file\n",
    "with open(file_path, 'w') as file:\n",
    "    json.dump(annotated_json_texts_v3, file, indent=4)\n",
    "\n",
    "print(f\"Data successfully written to {file_path}\")\n"
   ]
  },
  {
   "cell_type": "code",
   "execution_count": 356,
   "id": "de5b5b3b-3ac6-4208-9cff-7e08e2137ca7",
   "metadata": {},
   "outputs": [],
   "source": [
    "# for i in annotated_json_texts_v3[0:20]:\n",
    "#     print(extract_json_from_string(i))\n",
    "#     print(\"*\"*100)"
   ]
  },
  {
   "cell_type": "code",
   "execution_count": 176,
   "id": "67674d3a-2c4f-428d-b3de-948f091294a5",
   "metadata": {},
   "outputs": [],
   "source": [
    "def extract_json_from_string(s): \n",
    "    start = s.find('```') \n",
    "    end = s.rfind('```') + 3 \n",
    "    return s[start:end]"
   ]
  },
  {
   "cell_type": "code",
   "execution_count": 262,
   "id": "17c7d829-d237-49b2-8306-606815758131",
   "metadata": {},
   "outputs": [],
   "source": [
    "# for i in annotated_json_texts_v3[0:20]:\n",
    "#     print(\"x\" * 100)\n",
    "#     print(i)\n",
    "#     print(\"x\" * 100)"
   ]
  },
  {
   "cell_type": "code",
   "execution_count": 259,
   "id": "d58a56b1-215f-4f37-a0fa-43c8aa08b490",
   "metadata": {},
   "outputs": [],
   "source": [
    "example_text = \"\"\"Chinese tyre market\n",
    "China is the world’s largest vehicle market. In 2015, China\n",
    "recorded a rise of 6% in Passenger Vehicle (PV) sales,\n",
    "while sales of Commercial Vehicles (CV) dropped 9%.\n",
    "China accounts for one-third of the global tyre industry\n",
    "and developments there have huge global implications. In\n",
    "FY 2015-16, the Chinese tyre market faced tough challenges.\n",
    "A combination of overcapacities, anti-dumping probes\n",
    "in major consumer markets such as the U.S., and weaker\n",
    "domestic demand has made Chinese tyre manufacturers\n",
    "sell in a distressed manner. This desperation is disrupting\n",
    "the other markets. China has been the biggest threat to\n",
    "Indian tyre manufacturers, especially in the TBR (TruckBus Radial) segment. In the absence of anti-dumping duties\n",
    "being in place, China has been able to supply TBR almost\n",
    "at the cost of TBB (Truck-Bus Bias) tyres. This has\n",
    "earned it a healthy market share in India’s TBR replacement\n",
    "market.\n",
    "(Source: European Automobile Manufacturers Association)\"\"\"\n",
    "\n",
    "reference_output_with_tags = \"\"\"Section: Chinese Tyre Market\n",
    "Title: \"Chinese Tyre Market\"\n",
    "\n",
    "Content Summary: Overview of the tyre market dynamics in China, highlighting challenges and the impact on global and Indian markets.\n",
    "\n",
    "Details:\n",
    "Market Size: China is described as the world’s largest vehicle market, accounting for one-third of the global tyre industry.\n",
    "Sales Trends: In 2015, there was a 6% rise in Passenger Vehicle sales, while Commercial Vehicle sales dropped by 9%.\n",
    "Challenges: The Chinese tyre market faced significant challenges in FY 2015-16, including overcapacities, anti-dumping probes by the U.S., and weaker domestic demand.\n",
    "Impact: These challenges have led Chinese manufacturers to sell tyres in a distressed manner, disrupting other markets, particularly the Indian TBR (Truck-Bus Radial) market.\n",
    "Competitive Dynamics: Without anti-dumping duties, China has been able to gain a substantial market share in India’s TBR replacement market by pricing TBR tyres competitively against TBB (Truck-Bus Bias) tyres.\n",
    "Tags: [\"China tyre market\", \"global impact\", \"anti-dumping\", \"market disruption\", \"Indian tyre market competition\"]\n",
    "\"\"\"\n"
   ]
  },
  {
   "cell_type": "code",
   "execution_count": 190,
   "id": "59a335ff-ef79-40ea-bdff-7aed3a974b0f",
   "metadata": {},
   "outputs": [],
   "source": [
    "PROMPT_TEMPLATE_WITH_EXAMPLE = \"\"\"\n",
    "You are a equity research analyst.\n",
    "You have to structure, annotate and tag the provided annual financial report of a company CEAT which manufactures tyres in India. \n",
    "The annotated text with tags with be used to create embeddings for Retrieval Augmented Generation.\n",
    "Analyse the excerpt and provide a list of comprehensive annotations and tags for the given document.\n",
    "\n",
    "{excerpt}\n",
    "\n",
    "---\n",
    "Use the example input text and format of reference output with tags provided below:\n",
    "{example_text}\n",
    "{reference_output}\n",
    "\n",
    "Provide the structured, annotated and labelled response as json\n",
    "\"\"\"\n"
   ]
  },
  {
   "cell_type": "code",
   "execution_count": 191,
   "id": "af752f89-0b84-4c38-92fa-f7bd06eab161",
   "metadata": {},
   "outputs": [],
   "source": [
    "def create_prompt(excerpt, example_text, reference_output, prompt_template):\n",
    "    excerpt_text = f'\"\"\"{excerpt}\"\"\"'\n",
    "    prompt_template = ChatPromptTemplate.from_template(prompt_template)\n",
    "    prompt = prompt_template.format(excerpt=excerpt_text, example_text=example_text, reference_output=reference_output)\n",
    "    print(prompt)\n",
    "    print(\"*\" * 100)\n",
    "    return prompt\n",
    "    "
   ]
  },
  {
   "cell_type": "code",
   "execution_count": 198,
   "id": "4af7b9c6-9922-4bd1-b89a-01ce7571eb88",
   "metadata": {},
   "outputs": [],
   "source": [
    "annotated_text_with_reference = []"
   ]
  },
  {
   "cell_type": "code",
   "execution_count": 17,
   "id": "6f250af0-c7f3-4dc5-ad4b-7ade02d40185",
   "metadata": {
    "scrolled": true
   },
   "outputs": [],
   "source": [
    "model = Ollama(model=\"llama3\", base_url=\"http://localhost:11434\")\n",
    "for doc in documents:\n",
    "    annotation_prompt = create_prompt(doc.page_content, example_text, reference_output_with_tags, PROMPT_TEMPLATE_WITH_EXAMPLE)\n",
    "    annotated_text = model.invoke(annotation_prompt)\n",
    "\n",
    "    # json_prompt = create_prompt(annotated_text, JSON_PARSER_PROMPT_TEMPLATE)\n",
    "    # json_text = model.invoke(json_prompt)\n",
    "    # print(\"json_text:\", json_text)\n",
    "    # annotated_dict = json.loads(json_text)\n",
    "    annotated_text_with_reference.append(annotated_text)"
   ]
  },
  {
   "cell_type": "code",
   "execution_count": 260,
   "id": "8c3e282f-5d55-428f-a29b-b5b9e3183302",
   "metadata": {},
   "outputs": [],
   "source": [
    "# print(annotated_text_with_reference[9])"
   ]
  },
  {
   "cell_type": "code",
   "execution_count": 200,
   "id": "48a0544e-4c98-4784-b45a-65741f4653cb",
   "metadata": {},
   "outputs": [
    {
     "name": "stdout",
     "output_type": "stream",
     "text": [
      "Data successfully written to annotated_text_with_reference_all.json\n"
     ]
    }
   ],
   "source": [
    "# Do not remove or delete this file. Overnight's work.\n",
    "# file_path = 'annotated_text_with_reference_all.json'\n",
    "\n",
    "# Write JSON data to a file\n",
    "with open(file_path, 'w') as file:\n",
    "    json.dump(annotated_text_with_reference, file, indent=4)\n",
    "\n",
    "print(f\"Data successfully written to {file_path}\")\n",
    "# annotated_text_with_reference"
   ]
  },
  {
   "cell_type": "code",
   "execution_count": 261,
   "id": "e6a56107-411f-4879-bdd3-c8f1a03c1be6",
   "metadata": {},
   "outputs": [],
   "source": [
    "for i in annotated_text_with_reference[20:30]:\n",
    "    print(i)\n",
    "    print("
   ]
  },
  {
   "cell_type": "code",
   "execution_count": 213,
   "id": "74cfdb06-329c-4467-a2e2-e50dc11ddbee",
   "metadata": {},
   "outputs": [],
   "source": [
    "all_paragraphs_report_1 = []"
   ]
  },
  {
   "cell_type": "code",
   "execution_count": 13,
   "id": "f51d19e5-fa5a-4034-8f49-83380a0a249f",
   "metadata": {},
   "outputs": [],
   "source": [
    "PARAGRAPH_PROMPT = \"\"\"Break the following text into paragraphs and return the paragraphs: {text}\"\"\"\n",
    "for doc in documents[0:316]:\n",
    "    prompt_template = ChatPromptTemplate.from_template(PARAGRAPH_PROMPT)\n",
    "    prompt = prompt_template.format(text=doc.page_content)\n",
    "\n",
    "    # expanded_query_with_llm - not required in this case\n",
    "    paragraphs_for_page = model.invoke(prompt)\n",
    "\n",
    "    # json_prompt = create_prompt(annotated_text, JSON_PARSER_PROMPT_TEMPLATE)\n",
    "    # json_text = model.invoke(json_prompt)\n",
    "    # print(\"json_text:\", json_text)\n",
    "    # annotated_dict = json.loads(json_text)\n",
    "    all_paragraphs_report_1.append(paragraphs_for_page)"
   ]
  },
  {
   "cell_type": "code",
   "execution_count": 264,
   "id": "64cbd9f7-e741-44b9-9666-0b1e70e8ebf8",
   "metadata": {},
   "outputs": [],
   "source": [
    "# for i in all_paragraphs:\n",
    "#     print(i)\n",
    "#     print(\"x\"*100)"
   ]
  },
  {
   "cell_type": "code",
   "execution_count": 211,
   "id": "3348b9fe-0543-486b-8901-b758d4944aca",
   "metadata": {},
   "outputs": [
    {
     "data": {
      "text/plain": [
       "Document(page_content='CEAT LIMITED\\nRPG HOUSE463, DR ANNIE BESANT ROAD, WORLI  MUMBAI - 400 030\\nWWW.CEAT .COM\\nMaking \\nMobility Safer & S\\nMarter. \\nevery d\\nay.\\nMaking Mobility Safer & S Marter. every day.', metadata={'source': 'ceat/CEAT Limited Annual Report FY16.pdf', 'page': 0})"
      ]
     },
     "execution_count": 211,
     "metadata": {},
     "output_type": "execute_result"
    }
   ],
   "source": [
    "documents[316]"
   ]
  },
  {
   "cell_type": "markdown",
   "id": "c666f9ce-4049-47e5-b325-49e78877705e",
   "metadata": {},
   "source": [
    "# Using LlamaParse Markdown output"
   ]
  },
  {
   "cell_type": "code",
   "execution_count": 215,
   "id": "05190b52-186d-4d0c-be37-8f87abd770f2",
   "metadata": {},
   "outputs": [],
   "source": [
    "from langchain_community.document_loaders import UnstructuredMarkdownLoader"
   ]
  },
  {
   "cell_type": "code",
   "execution_count": 217,
   "id": "11d14cbe-3c2d-4c41-8a30-5e4533dbf30d",
   "metadata": {},
   "outputs": [
    {
     "data": {
      "text/plain": [
       "['2017pdf.md']"
      ]
     },
     "execution_count": 217,
     "metadata": {},
     "output_type": "execute_result"
    }
   ],
   "source": [
    "os.listdir(\"llama_parse_data\")"
   ]
  },
  {
   "cell_type": "code",
   "execution_count": 218,
   "id": "52154e05-36a5-43ed-8423-3ee0ae97bcbc",
   "metadata": {},
   "outputs": [],
   "source": [
    "markdown_path = \"./llama_parse_data/2017pdf.md\"\n",
    "loader = UnstructuredMarkdownLoader(markdown_path)\n"
   ]
  },
  {
   "cell_type": "code",
   "execution_count": 219,
   "id": "31ac46af-7b33-49b1-8511-e4a5e7d0fdad",
   "metadata": {},
   "outputs": [
    {
     "name": "stderr",
     "output_type": "stream",
     "text": [
      "[nltk_data] Downloading package punkt to\n",
      "[nltk_data]     /Users/paruljuniwal/nltk_data...\n",
      "[nltk_data]   Unzipping tokenizers/punkt.zip.\n",
      "[nltk_data] Downloading package averaged_perceptron_tagger to\n",
      "[nltk_data]     /Users/paruljuniwal/nltk_data...\n",
      "[nltk_data]   Unzipping taggers/averaged_perceptron_tagger.zip.\n"
     ]
    }
   ],
   "source": [
    "md_docs = loader.load()"
   ]
  },
  {
   "cell_type": "code",
   "execution_count": 224,
   "id": "eb5173d8-2122-4c68-81ee-1e56ddcebeec",
   "metadata": {},
   "outputs": [
    {
     "data": {
      "text/plain": [
       "100"
      ]
     },
     "execution_count": 224,
     "metadata": {},
     "output_type": "execute_result"
    }
   ],
   "source": [
    "len(md_docs[0].page_content[0:100])"
   ]
  },
  {
   "cell_type": "code",
   "execution_count": 263,
   "id": "ee879922-1789-47e5-a42d-ff4d31d2f1b3",
   "metadata": {},
   "outputs": [],
   "source": [
    "# print(md_docs[0].page_content[0:100000])"
   ]
  },
  {
   "cell_type": "code",
   "execution_count": 230,
   "id": "c7307346-9d95-4f39-a783-bb9c3b97519f",
   "metadata": {},
   "outputs": [],
   "source": [
    "all_paragraphs_from_md = []"
   ]
  },
  {
   "cell_type": "code",
   "execution_count": null,
   "id": "eaaefde1-db87-41dc-b322-9704d763d27f",
   "metadata": {},
   "outputs": [],
   "source": [
    "PARAGRAPH_PROMPT = \"\"\"Break the following text into paragraphs and return the paragraphs: {text}\"\"\"\n",
    "\n",
    "md_docs_chunks\n",
    "for doc in md_docs:\n",
    "    prompt_template = ChatPromptTemplate.from_template(PARAGRAPH_PROMPT)\n",
    "    prompt = prompt_template.format(text=doc.page_content)\n",
    "\n",
    "    # expanded_query_with_llm - not required in this case\n",
    "    paragraphs_for_page = model.invoke(prompt)\n",
    "\n",
    "    # json_prompt = create_prompt(annotated_text, JSON_PARSER_PROMPT_TEMPLATE)\n",
    "    # json_text = model.invoke(json_prompt)\n",
    "    # print(\"json_text:\", json_text)\n",
    "    # annotated_dict = json.loads(json_text)\n",
    "    all_paragraphs_from_md.append(paragraphs_for_page)"
   ]
  },
  {
   "cell_type": "code",
   "execution_count": 12,
   "id": "b3c220ab-1f79-4587-8240-4ce907fa771e",
   "metadata": {},
   "outputs": [],
   "source": [
    "# for i in documents:\n",
    "#     print(len(i.page_content))"
   ]
  },
  {
   "cell_type": "code",
   "execution_count": 233,
   "id": "64e54be9-3169-47e5-8915-de4cb0eb82cc",
   "metadata": {},
   "outputs": [
    {
     "data": {
      "text/plain": [
       "'TOWARDS A SAFER, \\nSMARTER TOMORROW\\nAnnual Report 2016-17'"
      ]
     },
     "execution_count": 233,
     "metadata": {},
     "output_type": "execute_result"
    }
   ],
   "source": [
    "documents[0].page_content[0:56]"
   ]
  },
  {
   "cell_type": "code",
   "execution_count": 234,
   "id": "d2ccc37b-f5ca-4537-bdb1-46fb8403a965",
   "metadata": {},
   "outputs": [
    {
     "data": {
      "text/plain": [
       "'CEAT Annual Report 2016-17\\n\\nTOWARDS A SAFER, SMARTER TOM'"
      ]
     },
     "execution_count": 234,
     "metadata": {},
     "output_type": "execute_result"
    }
   ],
   "source": [
    "md_docs[0].page_content[0:56]"
   ]
  },
  {
   "cell_type": "code",
   "execution_count": 235,
   "id": "05e68d46-63ac-4fe1-a1db-d2243cf44074",
   "metadata": {},
   "outputs": [
    {
     "data": {
      "text/plain": [
       "'CEAT Annual Report 2016-17\\n\\nTOWARDS A SAFER, SMARTER TOMORROW\\n\\nCorporate Overview\\n\\n02 Corporate Review 03 Manufacturing Landscape 04 Expanding Global Footprint 06 Board of Directors 08 Product Portfol'"
      ]
     },
     "execution_count": 235,
     "metadata": {},
     "output_type": "execute_result"
    }
   ],
   "source": [
    "md_docs[0].page_content[0:200]"
   ]
  },
  {
   "cell_type": "code",
   "execution_count": 236,
   "id": "324af9bc-8294-4a08-96ae-1e93ba19f5f5",
   "metadata": {},
   "outputs": [],
   "source": [
    "md = md_docs[0].page_content"
   ]
  },
  {
   "cell_type": "code",
   "execution_count": 240,
   "id": "ad351981-2b8c-4798-a33e-23e44c06f2a5",
   "metadata": {},
   "outputs": [],
   "source": [
    "md_split = md.split(\"\\n\\n\")"
   ]
  },
  {
   "cell_type": "code",
   "execution_count": 241,
   "id": "e843b246-ba14-457e-8970-92ec07078d18",
   "metadata": {},
   "outputs": [],
   "source": [
    "# print(md[0:10000])"
   ]
  },
  {
   "cell_type": "code",
   "execution_count": 242,
   "id": "677a7d81-2099-4f73-a2bf-329ae1c06603",
   "metadata": {},
   "outputs": [
    {
     "name": "stdout",
     "output_type": "stream",
     "text": [
      "94\n"
     ]
    }
   ],
   "source": [
    "chunk_size = 10000\n",
    "\n",
    "chunks = [md[i:i+chunk_size] for i in range(0, len(md), chunk_size)]\n",
    "\n",
    "print(len(chunks))"
   ]
  },
  {
   "cell_type": "code",
   "execution_count": 243,
   "id": "f72e8a94-702e-491e-9f93-63c3d5046fff",
   "metadata": {},
   "outputs": [],
   "source": [
    "para_from_chunks = []"
   ]
  },
  {
   "cell_type": "code",
   "execution_count": 11,
   "id": "d90b723d-8c65-4862-a66b-a27a0afc13d0",
   "metadata": {},
   "outputs": [],
   "source": [
    "PARAGRAPH_PROMPT = \"\"\"Break the following text into paragraphs and return the paragraphs: {text}\"\"\"\n",
    "for chunk in chunks:\n",
    "    prompt_template = ChatPromptTemplate.from_template(PARAGRAPH_PROMPT)\n",
    "    prompt = prompt_template.format(text=doc.page_content)\n",
    "\n",
    "    # expanded_query_with_llm - not required in this case\n",
    "    paragraphs_for_page = model.invoke(prompt)\n",
    "\n",
    "    # json_prompt = create_prompt(annotated_text, JSON_PARSER_PROMPT_TEMPLATE)\n",
    "    # json_text = model.invoke(json_prompt)\n",
    "    # print(\"json_text:\", json_text)\n",
    "    # annotated_dict = json.loads(json_text)\n",
    "    para_from_chunks.append(paragraphs_for_page)"
   ]
  },
  {
   "cell_type": "markdown",
   "id": "d6b3f3de-b327-4626-82a1-dedb01644165",
   "metadata": {},
   "source": [
    "# LLama Parsed Json"
   ]
  },
  {
   "cell_type": "code",
   "execution_count": 246,
   "id": "d2f5cfe6-cef7-4d95-9059-b498da5d5e22",
   "metadata": {},
   "outputs": [],
   "source": [
    "file_path = \"./llama_parse_data/2016pdf.json\"\n",
    "with open(file_path, 'r') as file:\n",
    "    json_docs = json.load(file)"
   ]
  },
  {
   "cell_type": "code",
   "execution_count": 253,
   "id": "29beda57-c7d3-4268-a190-ff63a4bea0fe",
   "metadata": {},
   "outputs": [],
   "source": [
    "pages = json_docs[0][\"pages\"]"
   ]
  },
  {
   "cell_type": "code",
   "execution_count": null,
   "id": "cbcc5675-fe66-4582-a1b4-ad538304507e",
   "metadata": {},
   "outputs": [],
   "source": []
  },
  {
   "cell_type": "code",
   "execution_count": null,
   "id": "22c10b8c-c04e-4dea-b4ff-7abaf2457716",
   "metadata": {},
   "outputs": [],
   "source": []
  },
  {
   "cell_type": "code",
   "execution_count": null,
   "id": "5c6214ba-d5d9-4772-9237-29f596bdaa00",
   "metadata": {},
   "outputs": [],
   "source": []
  },
  {
   "cell_type": "code",
   "execution_count": 265,
   "id": "92a8c518-0a88-416e-93a1-8c7abbe31add",
   "metadata": {},
   "outputs": [],
   "source": [
    "example_text = \"\"\"Chinese tyre market\n",
    "China is the world’s largest vehicle market. In 2015, China\n",
    "recorded a rise of 6% in Passenger Vehicle (PV) sales,\n",
    "while sales of Commercial Vehicles (CV) dropped 9%.\n",
    "China accounts for one-third of the global tyre industry\n",
    "and developments there have huge global implications. In\n",
    "FY 2015-16, the Chinese tyre market faced tough challenges.\n",
    "A combination of overcapacities, anti-dumping probes\n",
    "in major consumer markets such as the U.S., and weaker\n",
    "domestic demand has made Chinese tyre manufacturers\n",
    "sell in a distressed manner. This desperation is disrupting\n",
    "the other markets. China has been the biggest threat to\n",
    "Indian tyre manufacturers, especially in the TBR (TruckBus Radial) segment. In the absence of anti-dumping duties\n",
    "being in place, China has been able to supply TBR almost\n",
    "at the cost of TBB (Truck-Bus Bias) tyres. This has\n",
    "earned it a healthy market share in India’s TBR replacement\n",
    "market.\n",
    "(Source: European Automobile Manufacturers Association)\"\"\"\n",
    "\n",
    "reference_output_with_tags = \"\"\"Section: Chinese Tyre Market\n",
    "Title: \"Chinese Tyre Market\"\n",
    "\n",
    "Content Summary: Overview of the tyre market dynamics in China, highlighting challenges and the impact on global and Indian markets.\n",
    "\n",
    "Details:\n",
    "Market Size: China is described as the world’s largest vehicle market, accounting for one-third of the global tyre industry.\n",
    "Sales Trends: In 2015, there was a 6% rise in Passenger Vehicle sales, while Commercial Vehicle sales dropped by 9%.\n",
    "Challenges: The Chinese tyre market faced significant challenges in FY 2015-16, including overcapacities, anti-dumping probes by the U.S., and weaker domestic demand.\n",
    "Impact: These challenges have led Chinese manufacturers to sell tyres in a distressed manner, disrupting other markets, particularly the Indian TBR (Truck-Bus Radial) market.\n",
    "Competitive Dynamics: Without anti-dumping duties, China has been able to gain a substantial market share in India’s TBR replacement market by pricing TBR tyres competitively against TBB (Truck-Bus Bias) tyres.\n",
    "Tags: [\"China tyre market\", \"global impact\", \"anti-dumping\", \"market disruption\", \"Indian tyre market competition\"]\n",
    "\"\"\"\n"
   ]
  },
  {
   "cell_type": "code",
   "execution_count": 266,
   "id": "927e6afd-5f4f-44df-84ae-d8e6508d4791",
   "metadata": {},
   "outputs": [],
   "source": [
    "PROMPT_TEMPLATE_WITH_EXAMPLE = \"\"\"\n",
    "You are a equity research analyst.\n",
    "You have to structure, annotate and tag the provided annual financial report of a company CEAT which manufactures tyres in India. \n",
    "The annotated text with tags with be used to create embeddings for Retrieval Augmented Generation.\n",
    "Analyse the excerpt and provide a list of comprehensive annotations and tags for the given document.\n",
    "\n",
    "{excerpt}\n",
    "\n",
    "---\n",
    "Use the example input text and format of reference output with tags provided below:\n",
    "{example_text}\n",
    "{reference_output}\n",
    "\n",
    "Provide the list of tags at the end of response as TAGS: [<Tag 1>, <Tag 2>]\n",
    "\"\"\"\n"
   ]
  },
  {
   "cell_type": "code",
   "execution_count": 267,
   "id": "04315f36-e81e-4b8f-ad50-bfcdd378a26e",
   "metadata": {},
   "outputs": [],
   "source": [
    "def create_prompt(excerpt, example_text, reference_output, prompt_template):\n",
    "    excerpt_text = f'\"\"\"{excerpt}\"\"\"'\n",
    "    prompt_template = ChatPromptTemplate.from_template(prompt_template)\n",
    "    prompt = prompt_template.format(excerpt=excerpt_text, example_text=example_text, reference_output=reference_output)\n",
    "    print(prompt)\n",
    "    print(\"*\" * 100)\n",
    "    return prompt\n",
    "    "
   ]
  },
  {
   "cell_type": "code",
   "execution_count": 269,
   "id": "00641f91-df69-4416-b3ad-9490874f512c",
   "metadata": {},
   "outputs": [],
   "source": [
    "annotated_text_from_llama = []"
   ]
  },
  {
   "cell_type": "code",
   "execution_count": 10,
   "id": "8ac1a3bd-c336-4014-9204-d95bc77b49c6",
   "metadata": {},
   "outputs": [],
   "source": [
    "model = Ollama(model=\"llama3\", base_url=\"http://localhost:11434\")\n",
    "for page in pages[0:100]:\n",
    "    annotation_prompt = create_prompt(page[\"md\"], example_text, reference_output_with_tags, PROMPT_TEMPLATE_WITH_EXAMPLE)\n",
    "    annotated_text = model.invoke(annotation_prompt)\n",
    "\n",
    "    # json_prompt = create_prompt(annotated_text, JSON_PARSER_PROMPT_TEMPLATE)\n",
    "    # json_text = model.invoke(json_prompt)\n",
    "    # print(\"json_text:\", json_text)\n",
    "    # annotated_dict = json.loads(json_text)\n",
    "    annotated_text_from_llama.append(annotated_text)"
   ]
  },
  {
   "cell_type": "code",
   "execution_count": 9,
   "id": "d8746a79-e025-43e9-ad9d-65f33e702165",
   "metadata": {},
   "outputs": [],
   "source": [
    "# for i in annotated_text_from_llama[0:20]:\n",
    "#     print(i)\n",
    "#     print(\"x\" * 100)"
   ]
  },
  {
   "cell_type": "code",
   "execution_count": 273,
   "id": "3fa7ab51-e60f-4cae-8d60-629e65450866",
   "metadata": {},
   "outputs": [],
   "source": [
    "# print(annotated_text_from_llama[0]"
   ]
  },
  {
   "cell_type": "code",
   "execution_count": 342,
   "id": "292a8e16-0195-4788-9637-1b132cc14449",
   "metadata": {},
   "outputs": [],
   "source": [
    "# pages"
   ]
  },
  {
   "cell_type": "code",
   "execution_count": 275,
   "id": "c97de200-98e6-469e-9639-70695e83b9b7",
   "metadata": {},
   "outputs": [],
   "source": [
    "md_pages = [element[\"md\"] for element in pages]"
   ]
  },
  {
   "cell_type": "code",
   "execution_count": 277,
   "id": "ec867a1f-36d0-4030-b89c-5427db72976a",
   "metadata": {},
   "outputs": [
    {
     "data": {
      "text/plain": [
       "212"
      ]
     },
     "execution_count": 277,
     "metadata": {},
     "output_type": "execute_result"
    }
   ],
   "source": [
    "len(md_pages)"
   ]
  },
  {
   "cell_type": "code",
   "execution_count": 278,
   "id": "1973b25d-4030-4b74-92c7-939f8058e225",
   "metadata": {},
   "outputs": [
    {
     "data": {
      "text/plain": [
       "212"
      ]
     },
     "execution_count": 278,
     "metadata": {},
     "output_type": "execute_result"
    }
   ],
   "source": [
    "len(pages)"
   ]
  },
  {
   "cell_type": "code",
   "execution_count": 6,
   "id": "68b56b75-d621-40f3-b060-376391fd0b49",
   "metadata": {},
   "outputs": [],
   "source": [
    "# md_pages[0]"
   ]
  },
  {
   "cell_type": "code",
   "execution_count": 5,
   "id": "73aea95e-53c4-443c-82cb-1fd5a8bb11b6",
   "metadata": {},
   "outputs": [],
   "source": [
    "# md_pages[1]"
   ]
  },
  {
   "cell_type": "code",
   "execution_count": 7,
   "id": "e2939397-82d6-4c7c-9921-1aca4d388a26",
   "metadata": {},
   "outputs": [],
   "source": [
    "# md_pages[8]"
   ]
  },
  {
   "cell_type": "code",
   "execution_count": 327,
   "id": "751ab1d4-cb48-41fb-b386-8dfc1a4e9aab",
   "metadata": {},
   "outputs": [
    {
     "name": "stdout",
     "output_type": "stream",
     "text": [
      "base_url='http://localhost:11434' model='llama3' embed_instruction='passage: ' query_instruction='query: ' mirostat=None mirostat_eta=None mirostat_tau=None num_ctx=None num_gpu=None num_thread=None repeat_last_n=None repeat_penalty=None temperature=None stop=None tfs_z=None top_k=None top_p=None show_progress=False headers=None model_kwargs=None\n"
     ]
    }
   ],
   "source": [
    "embedding_function = get_embedding_function()\n",
    "print(embedding_function)"
   ]
  },
  {
   "cell_type": "code",
   "execution_count": 8,
   "id": "bd8b19ce-fe4c-4623-ad3d-48c0769ea0ff",
   "metadata": {},
   "outputs": [],
   "source": [
    "# md_pages[0]"
   ]
  },
  {
   "cell_type": "code",
   "execution_count": 333,
   "id": "1cfa8f7c-6a29-4c72-a8e7-89bb10c80dbc",
   "metadata": {},
   "outputs": [],
   "source": [
    "db = Chroma.from_documents(md_header_splits, embedding_function, persist_directory=CHROMA_PATH_LLAMA)\n",
    "# db = Chroma.from_documents(docs, embedding_function)"
   ]
  },
  {
   "cell_type": "code",
   "execution_count": 337,
   "id": "4268cbc5-bbdc-4910-bad4-33ad5f8aa9c4",
   "metadata": {},
   "outputs": [],
   "source": [
    "query = \"What is the ebitda OF CEAT?\"\n",
    "docs = db.similarity_search(query)"
   ]
  },
  {
   "cell_type": "code",
   "execution_count": 339,
   "id": "9615473c-9b04-4762-be4d-7d2b19febea0",
   "metadata": {},
   "outputs": [],
   "source": [
    "docs = db.similarity_search_with_score(query)"
   ]
  },
  {
   "cell_type": "code",
   "execution_count": 4,
   "id": "e44bc694-848c-41c2-9827-c0fdec045a0a",
   "metadata": {
    "scrolled": true
   },
   "outputs": [],
   "source": [
    "# docs"
   ]
  },
  {
   "cell_type": "code",
   "execution_count": 296,
   "id": "93976a79-7573-4846-98d3-8072af5764a3",
   "metadata": {},
   "outputs": [],
   "source": [
    "CHROMA_PATH_LLAMA = \"chroma_llama\"\n",
    "def add_to_chroma_llama_parsed(chunks: list[str]):\n",
    "    # Load the existing database.\n",
    "    db = Chroma(\n",
    "        persist_directory=CHROMA_PATH_LLAMA, embedding_function=get_embedding_function()\n",
    "    )\n",
    "\n",
    "    # Calculate Page IDs.\n",
    "    # chunks_with_ids = calculate_chunk_ids(chunks)\n",
    "\n",
    "    # Add or Update the documents.\n",
    "    existing_items = db.get(include=[])  # IDs are always included by default\n",
    "    existing_ids = set(existing_items[\"ids\"])\n",
    "    print(f\"Number of existing documents in DB: {len(existing_ids)}\")\n",
    "\n",
    "    # Only add documents that don't exist in the DB.\n",
    "    # new_chunks = []\n",
    "    # for chunk in chunks_with_ids:\n",
    "    #     if chunk.metadata[\"id\"] not in existing_ids:\n",
    "    #         new_chunks.append(chunk)\n",
    "    \n",
    "    if len(chunks):\n",
    "        print(f\"👉 Adding new documents: {len(chunks)}\")\n",
    "        # new_chunk_ids = [chunk.metadata[\"id\"] for chunk in new_chunks]\n",
    "        # print(\"new_chunk_ids:\", new_chunk_ids.split(\".pdf:\")[-1])\n",
    "        db.add_documents(chunks)\n",
    "        db.persist()\n",
    "    else:\n",
    "        print(\"✅ No new documents to add\")"
   ]
  },
  {
   "cell_type": "code",
   "execution_count": 351,
   "id": "e4311cc4-14b1-4d45-9b47-c7268743d17c",
   "metadata": {},
   "outputs": [],
   "source": [
    "# add_to_chroma_llama_parsed(md_pages)"
   ]
  },
  {
   "cell_type": "code",
   "execution_count": 292,
   "id": "3821583b-b67a-4584-9ad0-4735bc5f0b4a",
   "metadata": {},
   "outputs": [
    {
     "data": {
      "text/plain": [
       "Document(page_content='TOWARDS A SAFER, \\nSMARTER TOMORROW\\nAnnual Report 2016-17', metadata={'source': 'ceat/CEAT Limited Annual Report FY17.pdf', 'page': 0})"
      ]
     },
     "execution_count": 292,
     "metadata": {},
     "output_type": "execute_result"
    }
   ],
   "source": [
    "documents[0]"
   ]
  },
  {
   "cell_type": "code",
   "execution_count": null,
   "id": "c2dbbd34-177b-4f60-a9e8-45e6138e6774",
   "metadata": {},
   "outputs": [],
   "source": [
    "def calculate_chunk_ids(chunks, source):\n",
    "\n",
    "    # This will create IDs like \"data/monopoly.pdf:6:2\"\n",
    "    # Page Source : Page Number : Chunk Index\n",
    "\n",
    "    last_page_id = None\n",
    "    current_chunk_index = 0\n",
    "\n",
    "    for (index, chunk) in enumerate(chunks):\n",
    "        # source = chunk.metadata.get(\"source\")\n",
    "        # page = chunk.metadata.get(\"page\")\n",
    "        current_page_id = f\"{source}:{index}\"\n",
    "\n",
    "        # If the page ID is the same as the last one, increment the index.\n",
    "        if current_page_id == last_page_id:\n",
    "            current_chunk_index += 1\n",
    "        else:\n",
    "            current_chunk_index = 0\n",
    "\n",
    "        # Calculate the chunk ID.\n",
    "        chunk_id = f\"{current_page_id}:{current_chunk_index}\"\n",
    "        last_page_id = current_page_id\n",
    "\n",
    "        # Add it to the page meta-data.\n",
    "        chunk.metadata[\"id\"] = chunk_id\n",
    "\n",
    "    return chunks"
   ]
  },
  {
   "cell_type": "code",
   "execution_count": 298,
   "id": "ada02b7d-c6d1-4d9f-bf7e-8fddd9253275",
   "metadata": {},
   "outputs": [
    {
     "data": {
      "text/plain": [
       "'# CEAT Annual Financial Report\\n\\n# CEAT Annual Financial Report\\n\\nCEAT is a leading tyre manufacturing company in India, dedicated to making mobility safer and smarter every day.\\n\\nOur commitment to innovation and quality has made us a trusted name in the industry. We offer a wide range of tyres for various vehicles, ensuring safety and performance on the road.\\n\\nAt CEAT, we believe in continuous improvement and sustainable practices. Our financial report reflects our dedication to growth and success in the market.\\n\\nJoin us in our journey towards safer and smarter mobility. Together, we can make a difference on the roads every day.'"
      ]
     },
     "execution_count": 298,
     "metadata": {},
     "output_type": "execute_result"
    }
   ],
   "source": [
    "md_pages[0]"
   ]
  },
  {
   "cell_type": "code",
   "execution_count": 312,
   "id": "14c33fb1-44d1-4553-9252-364faed03c4a",
   "metadata": {},
   "outputs": [],
   "source": [
    "complete_md = \"\\n\\n\".join(md_pages)"
   ]
  },
  {
   "cell_type": "code",
   "execution_count": 3,
   "id": "17587bbe-69a9-4e72-9bc5-022196be597e",
   "metadata": {},
   "outputs": [],
   "source": [
    "# complete_md[0:1000]"
   ]
  },
  {
   "cell_type": "code",
   "execution_count": 306,
   "id": "c3f873ed-3dbb-4b05-868d-fd05fcfdc158",
   "metadata": {},
   "outputs": [],
   "source": [
    "for (idx, page) in enumerate(md_pages):\n",
    "    with open(f\"./llama_parse_data/md/{idx}.md\", \"w\") as f:\n",
    "        f.write(md_pages[idx])"
   ]
  },
  {
   "cell_type": "code",
   "execution_count": 310,
   "id": "5367399b-0d2f-490a-8b60-68c777c084c7",
   "metadata": {},
   "outputs": [],
   "source": [
    "# os.listdir()"
   ]
  },
  {
   "cell_type": "code",
   "execution_count": 309,
   "id": "c04eb583-295d-4405-971e-4f915309e376",
   "metadata": {},
   "outputs": [
    {
     "data": {
      "text/plain": [
       "212"
      ]
     },
     "execution_count": 309,
     "metadata": {},
     "output_type": "execute_result"
    }
   ],
   "source": [
    "len(sorted(os.listdir(\"llama_parse_data/md\")))"
   ]
  },
  {
   "cell_type": "code",
   "execution_count": 304,
   "id": "8d2155ad-0218-4b18-888b-811bc063b2a9",
   "metadata": {},
   "outputs": [],
   "source": [
    "os.mkdir(\"./llama_parse_data/md\")"
   ]
  },
  {
   "cell_type": "code",
   "execution_count": 313,
   "id": "9ce605b5-4837-4711-a9ff-8ad4402fb02d",
   "metadata": {},
   "outputs": [],
   "source": [
    "with open(f\"md_pages_from_llama.md\", \"w\") as f:\n",
    "        f.write(complete_md)"
   ]
  },
  {
   "cell_type": "code",
   "execution_count": 314,
   "id": "ea55f891-ced9-4e5e-a210-6f1c24ef0951",
   "metadata": {},
   "outputs": [],
   "source": [
    "from langchain_text_splitters import MarkdownHeaderTextSplitter"
   ]
  },
  {
   "cell_type": "code",
   "execution_count": 1,
   "id": "6104f187-7f9d-42b4-aee8-a4bda47e1fe1",
   "metadata": {},
   "outputs": [],
   "source": [
    "headers_to_split_on = [\n",
    "    (\"#\", \"Header 1\"),\n",
    "    (\"##\", \"Header 2\"),\n",
    "]\n",
    "\n",
    "markdown_splitter = MarkdownHeaderTextSplitter(headers_to_split_on=headers_to_split_on)\n",
    "md_header_splits = markdown_splitter.split_text(complete_md)\n",
    "md_header_splits"
   ]
  },
  {
   "cell_type": "code",
   "execution_count": 321,
   "id": "3f97a00b-2f75-4a52-971c-595eaf0ff795",
   "metadata": {},
   "outputs": [
    {
     "data": {
      "text/plain": [
       "Document(page_content='WIP  \\nKey Outsourcing Facilities  \\nMap not to scale', metadata={'Header 1': 'CEAT Limited Annual Report 2015-16', 'Header 2': 'Operational Facilities'})"
      ]
     },
     "execution_count": 321,
     "metadata": {},
     "output_type": "execute_result"
    }
   ],
   "source": [
    "md_header_splits[13]"
   ]
  },
  {
   "cell_type": "code",
   "execution_count": 324,
   "id": "898c7f3d-881b-45c6-a5d9-5e6f928df13b",
   "metadata": {},
   "outputs": [
    {
     "data": {
      "text/plain": [
       "Document(page_content='CEAT boasts an extensive distribution network to drive growth, with:  \\n- 4,300+ Dealers\\n- 250+ 2-Wheeler Distributors\\n- 400+ Franchisees (CEAT Shoppes and CEAT Hubs)\\n- 290+ Multi Brand Outlets & Shop-in-Shop Concepts\\n- 600+ Districts covered', metadata={'Header 1': 'CEAT Annual Financial Report', 'Header 2': 'Corporate Overview'})"
      ]
     },
     "execution_count": 324,
     "metadata": {},
     "output_type": "execute_result"
    }
   ],
   "source": [
    "md_header_splits[10]"
   ]
  },
  {
   "cell_type": "code",
   "execution_count": 357,
   "id": "8ba6b01a-5758-4a5e-8bd8-448e565ecb41",
   "metadata": {},
   "outputs": [],
   "source": [
    "# for i in md_header_splits:\n",
    "#     print(i.page_content)\n",
    "#     print(\"x\"*100)"
   ]
  },
  {
   "cell_type": "code",
   "execution_count": 341,
   "id": "a18ce7d1-a83d-4f24-bc0e-d33d80da1ac5",
   "metadata": {},
   "outputs": [
    {
     "data": {
      "text/plain": [
       "435"
      ]
     },
     "execution_count": 341,
     "metadata": {},
     "output_type": "execute_result"
    }
   ],
   "source": [
    "len(md_header_splits)"
   ]
  },
  {
   "cell_type": "markdown",
   "id": "fdf8df3b-e8f3-4d21-8a18-b22d1d83bb36",
   "metadata": {},
   "source": [
    "md_header_splits"
   ]
  },
  {
   "cell_type": "code",
   "execution_count": 344,
   "id": "c77dd43a-e9d8-46db-b7d0-b8a544a2d87d",
   "metadata": {},
   "outputs": [
    {
     "data": {
      "text/plain": [
       "Document(page_content='CEAT is a leading tyre manufacturing company in India, dedicated to making mobility safer and smarter every day.  \\nOur commitment to innovation and quality has made us a trusted name in the industry. We offer a wide range of tyres for various vehicles, ensuring safety and performance on the road.  \\nAt CEAT, we believe in continuous improvement and sustainable practices. Our financial report reflects our dedication to growth and success in the market.  \\nJoin us in our journey towards safer and smarter mobility. Together, we can make a difference on the roads every day.', metadata={'Header 1': 'CEAT Annual Financial Report'})"
      ]
     },
     "execution_count": 344,
     "metadata": {},
     "output_type": "execute_result"
    }
   ],
   "source": [
    "md_header_splits[0]"
   ]
  },
  {
   "cell_type": "code",
   "execution_count": 350,
   "id": "7b3754fc-b814-4543-bd3a-9b6dd7718531",
   "metadata": {},
   "outputs": [
    {
     "data": {
      "text/plain": [
       "Document(page_content='### Forward-looking statements  \\nThis report may contain forward-looking statements that set out anticipated results based on the management’s plans and assumptions. We have tried wherever possible to identify such statements by using words such as ‘anticipates’, ‘estimates’, ‘expects’, ‘projects’, ‘intends’, ‘plans’, ‘believes’ and words of similar substance in connection with any discussion of future performance. We cannot guarantee that these forward-looking statements will be realized, although we believe we have been prudent in these assumptions. The achievements of results are subject to risks, uncertainties and', metadata={'Header 1': 'CEAT Annual Financial Report', 'Header 2': 'Financial Statements'})"
      ]
     },
     "execution_count": 350,
     "metadata": {},
     "output_type": "execute_result"
    }
   ],
   "source": [
    "md_header_splits[5]"
   ]
  },
  {
   "cell_type": "code",
   "execution_count": null,
   "id": "68177771-282d-4a7e-b79a-62760a926306",
   "metadata": {},
   "outputs": [],
   "source": []
  }
 ],
 "metadata": {
  "kernelspec": {
   "display_name": "Python 3 (ipykernel)",
   "language": "python",
   "name": "python3"
  },
  "language_info": {
   "codemirror_mode": {
    "name": "ipython",
    "version": 3
   },
   "file_extension": ".py",
   "mimetype": "text/x-python",
   "name": "python",
   "nbconvert_exporter": "python",
   "pygments_lexer": "ipython3",
   "version": "3.11.0"
  }
 },
 "nbformat": 4,
 "nbformat_minor": 5
}
