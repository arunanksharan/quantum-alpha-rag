{
 "cells": [
  {
   "cell_type": "code",
   "execution_count": 4,
   "id": "1fc1f7a2-c3be-4d5d-baf2-6bdd15aa7467",
   "metadata": {},
   "outputs": [],
   "source": [
    "import os\n",
    "from autogen import ConversableAgent"
   ]
  },
  {
   "cell_type": "code",
   "execution_count": 6,
   "id": "fc171296-5bef-469f-8c10-874e19af1a33",
   "metadata": {},
   "outputs": [
    {
     "name": "stdout",
     "output_type": "stream",
     "text": [
      "Collecting markdownify\n",
      "  Downloading markdownify-0.12.1-py3-none-any.whl.metadata (8.0 kB)\n",
      "Requirement already satisfied: beautifulsoup4<5,>=4.9 in /Users/paruljuniwal/.pyenv/versions/3.11.0/lib/python3.11/site-packages (from markdownify) (4.12.3)\n",
      "Requirement already satisfied: six<2,>=1.15 in /Users/paruljuniwal/.pyenv/versions/3.11.0/lib/python3.11/site-packages (from markdownify) (1.16.0)\n",
      "Requirement already satisfied: soupsieve>1.2 in /Users/paruljuniwal/.pyenv/versions/3.11.0/lib/python3.11/site-packages (from beautifulsoup4<5,>=4.9->markdownify) (2.5)\n",
      "Downloading markdownify-0.12.1-py3-none-any.whl (16 kB)\n",
      "Installing collected packages: markdownify\n",
      "Successfully installed markdownify-0.12.1\n"
     ]
    }
   ],
   "source": [
    "!pip install markdownify"
   ]
  },
  {
   "cell_type": "code",
   "execution_count": 7,
   "id": "1971b253-0c6f-4251-9761-34dec2ab1567",
   "metadata": {},
   "outputs": [],
   "source": [
    "from autogen.browser_utils import SimpleTextBrowser"
   ]
  },
  {
   "cell_type": "code",
   "execution_count": 8,
   "id": "fed3834b-9717-4ce6-89fa-c90f4771a36d",
   "metadata": {},
   "outputs": [],
   "source": [
    "browser = SimpleTextBrowser()"
   ]
  },
  {
   "cell_type": "code",
   "execution_count": 15,
   "id": "02f98cee-eda3-47db-9801-31cab180502f",
   "metadata": {},
   "outputs": [
    {
     "data": {
      "text/plain": [
       "'https://www.ceat.com/investors/annual-reports.html'"
      ]
     },
     "execution_count": 15,
     "metadata": {},
     "output_type": "execute_result"
    }
   ],
   "source": [
    "browser.address"
   ]
  },
  {
   "cell_type": "code",
   "execution_count": 92,
   "id": "ae12afce-55bc-4b10-8d8b-04923fd62cd5",
   "metadata": {},
   "outputs": [],
   "source": [
    "# !pip install selenium"
   ]
  },
  {
   "cell_type": "code",
   "execution_count": 80,
   "id": "8f1b4445-89a0-4115-8ac9-247cc85c0172",
   "metadata": {},
   "outputs": [
    {
     "data": {
      "text/plain": [
       "['chromedriver', 'LICENSE.chromedriver']"
      ]
     },
     "execution_count": 80,
     "metadata": {},
     "output_type": "execute_result"
    }
   ],
   "source": [
    "os.listdir('./chromedriver_mac_arm64')"
   ]
  },
  {
   "cell_type": "markdown",
   "id": "35ffa5df-a269-42c0-8db8-19514c76807b",
   "metadata": {},
   "source": [
    "## Download Reports from Ceat Website"
   ]
  },
  {
   "cell_type": "code",
   "execution_count": 91,
   "id": "0c6398dc-43ff-475b-9e9d-c049a3034623",
   "metadata": {},
   "outputs": [
    {
     "name": "stdout",
     "output_type": "stream",
     "text": [
      "/Users/paruljuniwal/learning_development_Interview/product_suite/ai/fin-robo/ceat\n",
      "<selenium.webdriver.chrome.webdriver.WebDriver (session=\"1777383c826f161e4017f466c58b944c\")>\n",
      "report-urls ['https://www.ceat.com/content/dam/ceat/pdf/Annual_Reports/CEAT-Limited-Integrated-Annual-Report-FY23.pdf', 'https://www.ceat.com/content/dam/ceat/pdf/CEAT%20AR%202021-22_Spread-27.6.22.pdf', 'https://www.ceat.com/content/dam/ceat/pdf/Annual_Reports/Ceat-Limited-Integrated-Annual-Report-FY21.pdf', 'https://www.ceat.com/content/dam/ceat/pdf/Annual_Reports/CEAT%20Limited%20Integrated%20Annual%20Report%20FY20.pdf', 'https://www.ceat.com/content/dam/ceat/pdf/Annual_Reports/CEAT%20Limited%20Annual%20Report%20FY19.pdf', 'https://www.ceat.com/content/dam/ceat/pdf/Annual_Reports/CEAT%20Limited%20Annual%20Report%20FY18.pdf', 'https://www.ceat.com/content/dam/ceat/pdf/Annual_Reports/CEAT%20Limited%20Annual%20Report%20FY17.pdf', 'https://www.ceat.com/content/dam/ceat/pdf/Annual_Reports/CEAT%20Limited%20Annual%20Report%20FY16.pdf']\n",
      "postwait\n"
     ]
    }
   ],
   "source": [
    "from selenium import webdriver\n",
    "from selenium.webdriver.common.by import By\n",
    "from selenium.webdriver.common.keys import Keys\n",
    "from selenium.webdriver.support.wait import WebDriverWait\n",
    "import time\n",
    "\n",
    "# Set up the WebDriver\n",
    "download_dir = os.getcwd() + \"/ceat\"  # Change this to your desired download folder\n",
    "print(download_dir)\n",
    "os.makedirs(download_dir, exist_ok=True)\n",
    "\n",
    "# Set Chrome preferences to automate downloads\n",
    "options = Options()\n",
    "prefs = {\n",
    "        \"download.default_directory\": download_dir,\n",
    "        \"download.prompt_for_download\": False,  # To automatically download the PDF\n",
    "        # \"download.directory_upgrade\": True,\n",
    "        \"plugins.always_open_pdf_externally\": True  # It will not open the PDF in the browser\n",
    "    }\n",
    "options.add_experimental_option(\"prefs\", prefs)\n",
    "# options.add_argument(\"--headless\")\n",
    "\n",
    "    # Initialize WebDriver with options\n",
    "    # service = Service(executable_path=\"/path/to/chromedriver\")  # Update the path to where you've downloaded chromedriver\n",
    "\n",
    "\n",
    "service = Service(executable_path=\"./chromedriver_mac_arm64/chromedriver\")\n",
    "driver = webdriver.Chrome(options=options)\n",
    "print(driver)\n",
    "\n",
    "# URL of the webpage\n",
    "url = 'https://www.ceat.com/investors/annual-reports.html'\n",
    "\n",
    "# Navigate to the URL\n",
    "driver.get(url)\n",
    "\n",
    "# Extract the specific component\n",
    "# Replace 'your-css-selector' with the actual CSS selector for your component\n",
    "elements = driver.find_elements(By.CSS_SELECTOR, 'a.btn-icon')\n",
    "\n",
    "report_urls = [element.get_attribute('href') for element in elements]\n",
    "print(\"report-urls\", report_urls)\n",
    "\n",
    "if report_urls:\n",
    "    for report_url in report_urls:\n",
    "        driver.get(report_url)\n",
    "        WebDriverWait(driver, 10)\n",
    "    \n",
    "\n",
    "# download_pdf(driver, report_urls[0])    # driver.get(report_urls[0])\n",
    "print(\"postwait\")\n",
    "\n",
    "time.sleep(60)\n",
    "driver.quit()"
   ]
  },
  {
   "cell_type": "markdown",
   "id": "a8f6a803-2575-48cc-a4a0-65f83794f66f",
   "metadata": {},
   "source": [
    "## Upload PDF files and convert to structured data"
   ]
  },
  {
   "cell_type": "code",
   "execution_count": 105,
   "id": "67230617-bec5-43f1-8fc9-152b0b9c83c4",
   "metadata": {},
   "outputs": [
    {
     "name": "stdout",
     "output_type": "stream",
     "text": [
      "length: 8 ::::All reports:  ['CEAT Limited Annual Report FY17.pdf', 'CEAT Limited Annual Report FY16.pdf', 'CEAT Limited Integrated Annual Report FY20.pdf', 'CEAT Limited Annual Report FY18.pdf', 'CEAT Limited Annual Report FY19.pdf', 'CEAT AR 2021-22_Spread-27.6.22.pdf', 'Ceat-Limited-Integrated-Annual-Report-FY21.pdf', 'CEAT-Limited-Integrated-Annual-Report-FY23.pdf']\n"
     ]
    }
   ],
   "source": [
    "reports = [report for report in os.listdir(\"./ceat\") if report.endswith(\".pdf\")]\n",
    "\n",
    "print(\"length:\", len(reports), \"::::All reports: \", reports)"
   ]
  },
  {
   "cell_type": "code",
   "execution_count": 106,
   "id": "65f20772-1cda-4efa-9397-c8a8d81ca8d8",
   "metadata": {},
   "outputs": [],
   "source": [
    "from langchain_community.document_loaders import PyPDFLoader"
   ]
  },
  {
   "cell_type": "code",
   "execution_count": 109,
   "id": "61722407-73a0-4495-8d91-340684e4c532",
   "metadata": {},
   "outputs": [
    {
     "data": {
      "text/plain": [
       "'CEAT Limited Annual Report FY17.pdf'"
      ]
     },
     "execution_count": 109,
     "metadata": {},
     "output_type": "execute_result"
    }
   ],
   "source": [
    "reports[0]"
   ]
  },
  {
   "cell_type": "code",
   "execution_count": 112,
   "id": "579dd47f-6586-4e5e-b4ef-4f639726f64f",
   "metadata": {},
   "outputs": [],
   "source": [
    "loader = PyPDFLoader(os.path.join(os.getcwd(), \"ceat\", reports[0]))\n",
    "pages = loader.load_and_split()"
   ]
  },
  {
   "cell_type": "code",
   "execution_count": 113,
   "id": "09a97455-761d-4509-80f6-3c11fdc45951",
   "metadata": {},
   "outputs": [
    {
     "data": {
      "text/plain": [
       "400"
      ]
     },
     "execution_count": 113,
     "metadata": {},
     "output_type": "execute_result"
    }
   ],
   "source": [
    "len(pages)"
   ]
  },
  {
   "cell_type": "code",
   "execution_count": 123,
   "id": "febee702-d90f-457e-bf11-f5a8f144ac66",
   "metadata": {},
   "outputs": [
    {
     "data": {
      "text/plain": [
       "'TOWARDS A SAFER, \\nSMARTER TOMORROW\\nAnnual Report 2016-17'"
      ]
     },
     "execution_count": 123,
     "metadata": {},
     "output_type": "execute_result"
    }
   ],
   "source": [
    "pages[0].page_content"
   ]
  },
  {
   "cell_type": "code",
   "execution_count": null,
   "id": "bdb8b25b-9727-4778-a1fa-d40d120afcb2",
   "metadata": {},
   "outputs": [],
   "source": [
    "from pprint import pprint\n",
    "pprint(pages[1].page_content)"
   ]
  },
  {
   "cell_type": "code",
   "execution_count": 239,
   "id": "2607c098-53d2-4bda-b1a1-86dcc760df41",
   "metadata": {},
   "outputs": [],
   "source": [
    "# for i in range(0, 30):\n",
    "#     print(\"*\" * 100)\n",
    "#     pprint(pages[i].page_content)\n",
    "#     print(\"*\" * 100)"
   ]
  },
  {
   "cell_type": "code",
   "execution_count": 130,
   "id": "e30f5037-c938-4302-8ae5-794878f32ec2",
   "metadata": {},
   "outputs": [],
   "source": [
    "from autogen import ConversableAgent, AssistantAgent, UserProxyAgent"
   ]
  },
  {
   "cell_type": "code",
   "execution_count": 129,
   "id": "4f6f7d8e-0474-451f-9cde-25b5b78c61c7",
   "metadata": {},
   "outputs": [],
   "source": [
    "local_llama2_uncensored = {\n",
    "    \"model\": \"llama2-uncensored\",\n",
    "    \"base_url\": \"http://localhost:11434/v1/\",\n",
    "    \"temperature\": 0.9\n",
    "    # \"api_type\": \"openai\"\n",
    "}\n",
    "local_llama3 = {\n",
    "    \"model\": \"llama3\",\n",
    "    \"base_url\": \"http://localhost:11434/v1/\",\n",
    "    \"temperature\": 0.2,\n",
    "    \"cache_seed\": 42,\n",
    "    # \"api_type\": \"openai\"\n",
    "}"
   ]
  },
  {
   "cell_type": "code",
   "execution_count": 229,
   "id": "ad3c81ec-2e42-49a4-86c0-f6de0854af65",
   "metadata": {},
   "outputs": [],
   "source": [
    "# assistant = AssistantAgent(\n",
    "#     name=\"Assistant\",\n",
    "#     system_message=\"Only use the tools you have been provided with. Reply TERMINATE when the task is done.\",\n",
    "#     llm_config={\"config_list\": config_list, \"cache_seed\": None},\n",
    "# )\n",
    "\n",
    "# user_proxy = UserProxyAgent(\n",
    "#     name=\"user_proxy\",\n",
    "#     is_termination_msg=lambda x: x.get(\"content\", \"\") and x.get(\"content\", \"\").rstrip().endswith(\"TERMINATE\"),\n",
    "#     human_input_mode=\"TERMINATE\",\n",
    "#     max_consecutive_auto_reply=10,\n",
    "#     # code_execution_config={\"executor\": code_executor},\n",
    "# )\n",
    "\n",
    "user_proxy = ConversableAgent(\n",
    "    name=\"Editor\",\n",
    "    system_message=\"\"\"You are the admin editor overseeing the analysis. \n",
    "    Interact with the financial analyst agent to discuss the analysis. \n",
    "    Provide a feedback to the financial analyst's content on the following lines:\n",
    "    1. A detailed explantion of the points\n",
    "    2. No NSFW language\"\"\",\n",
    "    code_execution_config=False,\n",
    "    human_input_mode=\"ALWAYS\"\n",
    ")\n",
    "\n",
    "\n",
    "financial_analyst = ConversableAgent(\n",
    "    name=\"Equity Analyst\",\n",
    "    system_message=\"\"\"You’re an Equity analyst with expertise in auto and auto parts. \n",
    "    You have analysed annual developement in all tyre companies in India.  \n",
    "    How do you think work done by CEAT can help to grow its product portfolio, customer delight, growth in overall revenue \n",
    "    and profitability?\"\"\",\n",
    "    \n",
    "    # llm_config={\"config_list\": [{\"model\": \"gpt-4\", \"temperature\": 0.9, \"api_key\": os.environ.get(\"OPENAI_API_KEY\")}]},\n",
    "    llm_config={\"config_list\": [local_llama3]},\n",
    "    human_input_mode=\"NEVER\",  # Never ask for human input.\n",
    ")\n",
    "\n",
    "# Your name is Cathy. You are the most seasoned financial analyst with \n",
    "#     lots of expertise in stock market analysis and investment strategies in a company providing portfolio management \n",
    "#     and financial consultancy services for High Networth Individuals. \n",
    "#     You are tasked to analyse the report provided for a company's financials and write engaging blogpost.\n",
    "#     You try generate the best blogpost possible for the user's request. \n",
    "#     If the user provides critique, respond with a revised version of your previous attempts.\"\"\","
   ]
  },
  {
   "cell_type": "code",
   "execution_count": 194,
   "id": "9932e203-6498-48a0-9b62-162d39b5696d",
   "metadata": {},
   "outputs": [],
   "source": [
    "def get_page(idx):\n",
    "    return pages[idx]"
   ]
  },
  {
   "cell_type": "code",
   "execution_count": 230,
   "id": "276bf02a-a421-493b-9604-1b722e3d69c2",
   "metadata": {},
   "outputs": [],
   "source": [
    "# first_query = \"\"\n",
    "# for i in pages[10:27]:\n",
    "#     first_query += i.page_content\n",
    "\n",
    "# print(first_query)"
   ]
  },
  {
   "cell_type": "code",
   "execution_count": 231,
   "id": "639769ab-8139-4090-9a5a-9bd160d92788",
   "metadata": {},
   "outputs": [],
   "source": [
    "task = f\"\"\"Give me a detailed analysis of the following text from the financial report. \n",
    "Wait for me to analyse your analyse and add comments. Revise your analysis as per my comments.\n",
    "\n",
    "The content is as follows :\\n {first_query}\n",
    "\"\"\""
   ]
  },
  {
   "cell_type": "code",
   "execution_count": 196,
   "id": "9cf57a9e-b7d5-441f-b827-62d6c3283821",
   "metadata": {},
   "outputs": [],
   "source": [
    "# print(task)"
   ]
  },
  {
   "cell_type": "code",
   "execution_count": 241,
   "id": "334b5c00-db29-4d29-bfab-52443d952a53",
   "metadata": {},
   "outputs": [],
   "source": [
    "chat = user_proxy.initiate_chat(\n",
    "        financial_analyst,\n",
    "        message=task,\n",
    "        max_turns=3,\n",
    "        # cache=cache,\n",
    "    )"
   ]
  },
  {
   "cell_type": "code",
   "execution_count": 166,
   "id": "7eba0aaa-b183-41a4-9108-95233584993c",
   "metadata": {},
   "outputs": [
    {
     "name": "stdout",
     "output_type": "stream",
     "text": [
      "6\n"
     ]
    }
   ],
   "source": [
    "print(len(chat.chat_history))"
   ]
  },
  {
   "cell_type": "code",
   "execution_count": 214,
   "id": "22f5d0bc-1d91-44fc-b66f-e4d71e58ac76",
   "metadata": {},
   "outputs": [],
   "source": [
    "# for i in chat.chat_history:\n",
    "#     print(i)\n",
    "#     print(\"*\" * 100)"
   ]
  },
  {
   "cell_type": "code",
   "execution_count": 215,
   "id": "640d9707-6379-405d-bba3-89bab4da21f8",
   "metadata": {},
   "outputs": [],
   "source": [
    "# print(chat.chat_history[1][\"content\"])"
   ]
  },
  {
   "cell_type": "code",
   "execution_count": 216,
   "id": "3162fdeb-db1f-4bb7-8a5e-c9c6ce67ab4e",
   "metadata": {},
   "outputs": [],
   "source": [
    "# print(chat.chat_history[0][\"content\"])"
   ]
  },
  {
   "cell_type": "code",
   "execution_count": null,
   "id": "356acd1a-c9bd-40ff-a545-6d51fc8f8182",
   "metadata": {},
   "outputs": [],
   "source": [
    "result = joe.initiate_chat(cathy, message=\"Cathy, tell me a joke and then say goodbye.\", max_turns=3)"
   ]
  },
  {
   "cell_type": "code",
   "execution_count": null,
   "id": "94e91cf2-784b-44c3-866a-26b9e5f7330e",
   "metadata": {},
   "outputs": [],
   "source": [
    "# return Agent(\n",
    "#       role='The Best Financial Analyst',\n",
    "#       goal=\"\"\"Impress all customers with your financial data \n",
    "#       and market trends analysis\"\"\",\n",
    "#       backstory=\"\"\"The most seasoned financial analyst with \n",
    "#       lots of expertise in stock market analysis and investment\n",
    "#       strategies that is working for a super important customer.\"\"\",\n",
    "#       verbose=True,"
   ]
  },
  {
   "cell_type": "code",
   "execution_count": 242,
   "id": "8cde0390-0c40-4a5a-bbe3-b97cb521c1d4",
   "metadata": {},
   "outputs": [],
   "source": [
    "# print(pages[11].page_content)"
   ]
  },
  {
   "cell_type": "code",
   "execution_count": 243,
   "id": "e2d2736e-fe74-431e-a465-9f18770bae81",
   "metadata": {},
   "outputs": [],
   "source": [
    "# print(pages[12].page_content)"
   ]
  },
  {
   "cell_type": "markdown",
   "id": "a16d5778-c3fc-468c-aaf3-2b6b9b443c70",
   "metadata": {},
   "source": [
    "## Factual Equity Analyst"
   ]
  },
  {
   "cell_type": "code",
   "execution_count": 237,
   "id": "6c239ea8-30a9-4186-ba80-23ff8c20c315",
   "metadata": {},
   "outputs": [],
   "source": [
    "user_proxy = UserProxyAgent(\n",
    "    name=\"Admin\",\n",
    "    system_message=\"\"\"You are the admin editor overseeing the analysis and query answering. \n",
    "    Interact with the financial analyst agent to query factual data the analysis. \"\"\",\n",
    "    code_execution_config=False,\n",
    "    human_input_mode=\"NEVER\"\n",
    ")\n",
    "\n",
    "\n",
    "financial_analyst = AssistantAgent(\n",
    "    name=\"Equity Analyst\",\n",
    "    system_message= \"\"\"You’re an Equity analyst with expertise in auto and auto parts in India. \n",
    "    You have analysed annual developement in all tyre companies in India. \n",
    "    You will be provided with a document delimited by triple backticks ```  and a question. \n",
    "    Your task is to answer the question using only the provided document and to cite the passage(s) \n",
    "    of the document used to answer the question. If the document does not contain the information needed \n",
    "    to answer this question then simply write: \"Insufficient information.\n",
    "    If an answer to the question is provided, it must be annotated with a citation. \n",
    "    Use the following format for to cite relevant passages ({\"citation\": …}). \"\"\",\n",
    "    \n",
    "    # llm_config={\"config_list\": [{\"model\": \"gpt-4\", \"temperature\": 0.9, \"api_key\": os.environ.get(\"OPENAI_API_KEY\")}]},\n",
    "    llm_config={\"config_list\": [local_llama3]},\n",
    "    human_input_mode=\"NEVER\",  # Never ask for human input.\n",
    ")"
   ]
  },
  {
   "cell_type": "code",
   "execution_count": 222,
   "id": "bd120c41-951c-468e-9403-0c27b310ef70",
   "metadata": {},
   "outputs": [],
   "source": [
    "def create_prompt(page_content=\"\", question_content=\"\"):\n",
    "    prompt_template = f\"\"\" ```{page_content}``` Question: {question_content}\"\"\"\n",
    "    return prompt_template"
   ]
  },
  {
   "cell_type": "code",
   "execution_count": null,
   "id": "a4c7b986-4d51-4b1f-8ac3-678c2dd0854c",
   "metadata": {},
   "outputs": [],
   "source": []
  },
  {
   "cell_type": "code",
   "execution_count": 219,
   "id": "0ef64521-1079-4371-8ac9-a075459d5240",
   "metadata": {},
   "outputs": [],
   "source": [
    "task1 = f\"\"\" ```{pages[12].page_content}``` Question: What is the PAT for the year 2014 and 2015?\"\"\"\n",
    "task2 = f\"\"\" ```{pages[12].page_content}``` Question: What is the PAT for the year 2014 and 2015?\"\"\"\n"
   ]
  },
  {
   "cell_type": "code",
   "execution_count": 235,
   "id": "a47843d8-2664-4bcc-a856-0d39fcf994e9",
   "metadata": {},
   "outputs": [],
   "source": [
    "task2 = create_prompt(pages[12].page_content, \"What is the EPS for the year 2017?\")\n",
    "# print(task2)"
   ]
  },
  {
   "cell_type": "code",
   "execution_count": 238,
   "id": "bc3e65c1-be10-49f0-854e-c797269b4794",
   "metadata": {},
   "outputs": [],
   "source": [
    "chat = user_proxy.initiate_chat(\n",
    "        financial_analyst,\n",
    "        message=task2,\n",
    "        max_turns=3,\n",
    "        # cache=cache,\n",
    ")"
   ]
  },
  {
   "cell_type": "markdown",
   "id": "f5b0e305-6699-45a9-9ab0-9b19671a66d3",
   "metadata": {},
   "source": [
    "# SImple Chat interfac with llama3"
   ]
  },
  {
   "cell_type": "code",
   "execution_count": null,
   "id": "1f3be703-ba76-4910-b788-cfd870d268c4",
   "metadata": {},
   "outputs": [],
   "source": []
  }
 ],
 "metadata": {
  "kernelspec": {
   "display_name": "Python 3 (ipykernel)",
   "language": "python",
   "name": "python3"
  },
  "language_info": {
   "codemirror_mode": {
    "name": "ipython",
    "version": 3
   },
   "file_extension": ".py",
   "mimetype": "text/x-python",
   "name": "python",
   "nbconvert_exporter": "python",
   "pygments_lexer": "ipython3",
   "version": "3.11.0"
  }
 },
 "nbformat": 4,
 "nbformat_minor": 5
}
