{
 "cells": [
  {
   "cell_type": "code",
   "execution_count": 2,
   "id": "b220ab25-aa6c-4b26-a618-b1a3abe5b874",
   "metadata": {},
   "outputs": [
    {
     "name": "stdout",
     "output_type": "stream",
     "text": [
      "Collecting llama-parse\n",
      "  Downloading llama_parse-0.4.2-py3-none-any.whl.metadata (3.5 kB)\n",
      "Collecting llama-index-core>=0.10.29 (from llama-parse)\n",
      "  Downloading llama_index_core-0.10.35.post1-py3-none-any.whl.metadata (3.6 kB)\n",
      "Requirement already satisfied: PyYAML>=6.0.1 in /Users/paruljuniwal/.pyenv/versions/3.11.0/lib/python3.11/site-packages (from llama-index-core>=0.10.29->llama-parse) (6.0.1)\n",
      "Requirement already satisfied: SQLAlchemy>=1.4.49 in /Users/paruljuniwal/.pyenv/versions/3.11.0/lib/python3.11/site-packages (from SQLAlchemy[asyncio]>=1.4.49->llama-index-core>=0.10.29->llama-parse) (2.0.29)\n",
      "Requirement already satisfied: aiohttp<4.0.0,>=3.8.6 in /Users/paruljuniwal/.pyenv/versions/3.11.0/lib/python3.11/site-packages (from llama-index-core>=0.10.29->llama-parse) (3.9.3)\n",
      "Requirement already satisfied: dataclasses-json in /Users/paruljuniwal/.pyenv/versions/3.11.0/lib/python3.11/site-packages (from llama-index-core>=0.10.29->llama-parse) (0.6.4)\n",
      "Requirement already satisfied: deprecated>=1.2.9.3 in /Users/paruljuniwal/.pyenv/versions/3.11.0/lib/python3.11/site-packages (from llama-index-core>=0.10.29->llama-parse) (1.2.14)\n",
      "Collecting dirtyjson<2.0.0,>=1.0.8 (from llama-index-core>=0.10.29->llama-parse)\n",
      "  Downloading dirtyjson-1.0.8-py3-none-any.whl.metadata (11 kB)\n",
      "Requirement already satisfied: fsspec>=2023.5.0 in /Users/paruljuniwal/.pyenv/versions/3.11.0/lib/python3.11/site-packages (from llama-index-core>=0.10.29->llama-parse) (2024.2.0)\n",
      "Requirement already satisfied: httpx in /Users/paruljuniwal/.pyenv/versions/3.11.0/lib/python3.11/site-packages (from llama-index-core>=0.10.29->llama-parse) (0.26.0)\n",
      "Collecting llamaindex-py-client<0.2.0,>=0.1.18 (from llama-index-core>=0.10.29->llama-parse)\n",
      "  Downloading llamaindex_py_client-0.1.19-py3-none-any.whl.metadata (760 bytes)\n",
      "Requirement already satisfied: nest-asyncio<2.0.0,>=1.5.8 in /Users/paruljuniwal/.pyenv/versions/3.11.0/lib/python3.11/site-packages (from llama-index-core>=0.10.29->llama-parse) (1.6.0)\n",
      "Requirement already satisfied: networkx>=3.0 in /Users/paruljuniwal/.pyenv/versions/3.11.0/lib/python3.11/site-packages (from llama-index-core>=0.10.29->llama-parse) (3.2.1)\n",
      "Requirement already satisfied: nltk<4.0.0,>=3.8.1 in /Users/paruljuniwal/.pyenv/versions/3.11.0/lib/python3.11/site-packages (from llama-index-core>=0.10.29->llama-parse) (3.8.1)\n",
      "Requirement already satisfied: numpy in /Users/paruljuniwal/.pyenv/versions/3.11.0/lib/python3.11/site-packages (from llama-index-core>=0.10.29->llama-parse) (1.26.4)\n",
      "Requirement already satisfied: openai>=1.1.0 in /Users/paruljuniwal/.pyenv/versions/3.11.0/lib/python3.11/site-packages (from llama-index-core>=0.10.29->llama-parse) (1.20.0)\n",
      "Requirement already satisfied: pandas in /Users/paruljuniwal/.pyenv/versions/3.11.0/lib/python3.11/site-packages (from llama-index-core>=0.10.29->llama-parse) (2.2.0)\n",
      "Requirement already satisfied: pillow>=9.0.0 in /Users/paruljuniwal/.pyenv/versions/3.11.0/lib/python3.11/site-packages (from llama-index-core>=0.10.29->llama-parse) (10.2.0)\n",
      "Requirement already satisfied: requests>=2.31.0 in /Users/paruljuniwal/.pyenv/versions/3.11.0/lib/python3.11/site-packages (from llama-index-core>=0.10.29->llama-parse) (2.31.0)\n",
      "Requirement already satisfied: tenacity<9.0.0,>=8.2.0 in /Users/paruljuniwal/.pyenv/versions/3.11.0/lib/python3.11/site-packages (from llama-index-core>=0.10.29->llama-parse) (8.2.3)\n",
      "Requirement already satisfied: tiktoken>=0.3.3 in /Users/paruljuniwal/.pyenv/versions/3.11.0/lib/python3.11/site-packages (from llama-index-core>=0.10.29->llama-parse) (0.5.2)\n",
      "Requirement already satisfied: tqdm<5.0.0,>=4.66.1 in /Users/paruljuniwal/.pyenv/versions/3.11.0/lib/python3.11/site-packages (from llama-index-core>=0.10.29->llama-parse) (4.66.2)\n",
      "Requirement already satisfied: typing-extensions>=4.5.0 in /Users/paruljuniwal/.pyenv/versions/3.11.0/lib/python3.11/site-packages (from llama-index-core>=0.10.29->llama-parse) (4.9.0)\n",
      "Requirement already satisfied: typing-inspect>=0.8.0 in /Users/paruljuniwal/.pyenv/versions/3.11.0/lib/python3.11/site-packages (from llama-index-core>=0.10.29->llama-parse) (0.9.0)\n",
      "Requirement already satisfied: wrapt in /Users/paruljuniwal/.pyenv/versions/3.11.0/lib/python3.11/site-packages (from llama-index-core>=0.10.29->llama-parse) (1.16.0)\n",
      "Requirement already satisfied: aiosignal>=1.1.2 in /Users/paruljuniwal/.pyenv/versions/3.11.0/lib/python3.11/site-packages (from aiohttp<4.0.0,>=3.8.6->llama-index-core>=0.10.29->llama-parse) (1.3.1)\n",
      "Requirement already satisfied: attrs>=17.3.0 in /Users/paruljuniwal/.pyenv/versions/3.11.0/lib/python3.11/site-packages (from aiohttp<4.0.0,>=3.8.6->llama-index-core>=0.10.29->llama-parse) (23.2.0)\n",
      "Requirement already satisfied: frozenlist>=1.1.1 in /Users/paruljuniwal/.pyenv/versions/3.11.0/lib/python3.11/site-packages (from aiohttp<4.0.0,>=3.8.6->llama-index-core>=0.10.29->llama-parse) (1.4.1)\n",
      "Requirement already satisfied: multidict<7.0,>=4.5 in /Users/paruljuniwal/.pyenv/versions/3.11.0/lib/python3.11/site-packages (from aiohttp<4.0.0,>=3.8.6->llama-index-core>=0.10.29->llama-parse) (6.0.5)\n",
      "Requirement already satisfied: yarl<2.0,>=1.0 in /Users/paruljuniwal/.pyenv/versions/3.11.0/lib/python3.11/site-packages (from aiohttp<4.0.0,>=3.8.6->llama-index-core>=0.10.29->llama-parse) (1.9.4)\n",
      "Requirement already satisfied: pydantic>=1.10 in /Users/paruljuniwal/.pyenv/versions/3.11.0/lib/python3.11/site-packages (from llamaindex-py-client<0.2.0,>=0.1.18->llama-index-core>=0.10.29->llama-parse) (2.7.1)\n",
      "Requirement already satisfied: anyio in /Users/paruljuniwal/.pyenv/versions/3.11.0/lib/python3.11/site-packages (from httpx->llama-index-core>=0.10.29->llama-parse) (4.2.0)\n",
      "Requirement already satisfied: certifi in /Users/paruljuniwal/.pyenv/versions/3.11.0/lib/python3.11/site-packages (from httpx->llama-index-core>=0.10.29->llama-parse) (2024.2.2)\n",
      "Requirement already satisfied: httpcore==1.* in /Users/paruljuniwal/.pyenv/versions/3.11.0/lib/python3.11/site-packages (from httpx->llama-index-core>=0.10.29->llama-parse) (1.0.2)\n",
      "Requirement already satisfied: idna in /Users/paruljuniwal/.pyenv/versions/3.11.0/lib/python3.11/site-packages (from httpx->llama-index-core>=0.10.29->llama-parse) (3.6)\n",
      "Requirement already satisfied: sniffio in /Users/paruljuniwal/.pyenv/versions/3.11.0/lib/python3.11/site-packages (from httpx->llama-index-core>=0.10.29->llama-parse) (1.3.0)\n",
      "Requirement already satisfied: h11<0.15,>=0.13 in /Users/paruljuniwal/.pyenv/versions/3.11.0/lib/python3.11/site-packages (from httpcore==1.*->httpx->llama-index-core>=0.10.29->llama-parse) (0.14.0)\n",
      "Requirement already satisfied: click in /Users/paruljuniwal/.pyenv/versions/3.11.0/lib/python3.11/site-packages (from nltk<4.0.0,>=3.8.1->llama-index-core>=0.10.29->llama-parse) (8.1.7)\n",
      "Requirement already satisfied: joblib in /Users/paruljuniwal/.pyenv/versions/3.11.0/lib/python3.11/site-packages (from nltk<4.0.0,>=3.8.1->llama-index-core>=0.10.29->llama-parse) (1.3.2)\n",
      "Requirement already satisfied: regex>=2021.8.3 in /Users/paruljuniwal/.pyenv/versions/3.11.0/lib/python3.11/site-packages (from nltk<4.0.0,>=3.8.1->llama-index-core>=0.10.29->llama-parse) (2023.12.25)\n",
      "Requirement already satisfied: distro<2,>=1.7.0 in /Users/paruljuniwal/.pyenv/versions/3.11.0/lib/python3.11/site-packages (from openai>=1.1.0->llama-index-core>=0.10.29->llama-parse) (1.9.0)\n",
      "Requirement already satisfied: charset-normalizer<4,>=2 in /Users/paruljuniwal/.pyenv/versions/3.11.0/lib/python3.11/site-packages (from requests>=2.31.0->llama-index-core>=0.10.29->llama-parse) (3.3.2)\n",
      "Requirement already satisfied: urllib3<3,>=1.21.1 in /Users/paruljuniwal/.pyenv/versions/3.11.0/lib/python3.11/site-packages (from requests>=2.31.0->llama-index-core>=0.10.29->llama-parse) (2.2.0)\n",
      "Collecting greenlet!=0.4.17 (from SQLAlchemy[asyncio]>=1.4.49->llama-index-core>=0.10.29->llama-parse)\n",
      "  Downloading greenlet-3.0.3-cp311-cp311-macosx_11_0_universal2.whl.metadata (3.8 kB)\n",
      "Requirement already satisfied: mypy-extensions>=0.3.0 in /Users/paruljuniwal/.pyenv/versions/3.11.0/lib/python3.11/site-packages (from typing-inspect>=0.8.0->llama-index-core>=0.10.29->llama-parse) (1.0.0)\n",
      "Requirement already satisfied: marshmallow<4.0.0,>=3.18.0 in /Users/paruljuniwal/.pyenv/versions/3.11.0/lib/python3.11/site-packages (from dataclasses-json->llama-index-core>=0.10.29->llama-parse) (3.20.2)\n",
      "Requirement already satisfied: python-dateutil>=2.8.2 in /Users/paruljuniwal/.pyenv/versions/3.11.0/lib/python3.11/site-packages (from pandas->llama-index-core>=0.10.29->llama-parse) (2.8.2)\n",
      "Requirement already satisfied: pytz>=2020.1 in /Users/paruljuniwal/.pyenv/versions/3.11.0/lib/python3.11/site-packages (from pandas->llama-index-core>=0.10.29->llama-parse) (2024.1)\n",
      "Requirement already satisfied: tzdata>=2022.7 in /Users/paruljuniwal/.pyenv/versions/3.11.0/lib/python3.11/site-packages (from pandas->llama-index-core>=0.10.29->llama-parse) (2024.1)\n",
      "Requirement already satisfied: packaging>=17.0 in /Users/paruljuniwal/.pyenv/versions/3.11.0/lib/python3.11/site-packages (from marshmallow<4.0.0,>=3.18.0->dataclasses-json->llama-index-core>=0.10.29->llama-parse) (23.2)\n",
      "Requirement already satisfied: annotated-types>=0.4.0 in /Users/paruljuniwal/.pyenv/versions/3.11.0/lib/python3.11/site-packages (from pydantic>=1.10->llamaindex-py-client<0.2.0,>=0.1.18->llama-index-core>=0.10.29->llama-parse) (0.6.0)\n",
      "Requirement already satisfied: pydantic-core==2.18.2 in /Users/paruljuniwal/.pyenv/versions/3.11.0/lib/python3.11/site-packages (from pydantic>=1.10->llamaindex-py-client<0.2.0,>=0.1.18->llama-index-core>=0.10.29->llama-parse) (2.18.2)\n",
      "Requirement already satisfied: six>=1.5 in /Users/paruljuniwal/.pyenv/versions/3.11.0/lib/python3.11/site-packages (from python-dateutil>=2.8.2->pandas->llama-index-core>=0.10.29->llama-parse) (1.16.0)\n",
      "Downloading llama_parse-0.4.2-py3-none-any.whl (7.6 kB)\n",
      "Downloading llama_index_core-0.10.35.post1-py3-none-any.whl (15.4 MB)\n",
      "\u001b[2K   \u001b[38;2;114;156;31m━━━━━━━━━━━━━━━━━━━━━━━━━━━━━━━━━━━━━━━━\u001b[0m \u001b[32m15.4/15.4 MB\u001b[0m \u001b[31m12.4 MB/s\u001b[0m eta \u001b[36m0:00:00\u001b[0mm eta \u001b[36m0:00:01\u001b[0m0:01\u001b[0m:01\u001b[0m\n",
      "\u001b[?25hDownloading dirtyjson-1.0.8-py3-none-any.whl (25 kB)\n",
      "Downloading llamaindex_py_client-0.1.19-py3-none-any.whl (141 kB)\n",
      "\u001b[2K   \u001b[38;2;114;156;31m━━━━━━━━━━━━━━━━━━━━━━━━━━━━━━━━━━━━━━━━\u001b[0m \u001b[32m141.9/141.9 kB\u001b[0m \u001b[31m8.1 MB/s\u001b[0m eta \u001b[36m0:00:00\u001b[0m\n",
      "\u001b[?25hDownloading greenlet-3.0.3-cp311-cp311-macosx_11_0_universal2.whl (271 kB)\n",
      "\u001b[2K   \u001b[38;2;114;156;31m━━━━━━━━━━━━━━━━━━━━━━━━━━━━━━━━━━━━━━━━\u001b[0m \u001b[32m271.7/271.7 kB\u001b[0m \u001b[31m10.3 MB/s\u001b[0m eta \u001b[36m0:00:00\u001b[0m\n",
      "\u001b[?25hInstalling collected packages: dirtyjson, greenlet, llamaindex-py-client, llama-index-core, llama-parse\n",
      "Successfully installed dirtyjson-1.0.8 greenlet-3.0.3 llama-index-core-0.10.35.post1 llama-parse-0.4.2 llamaindex-py-client-0.1.19\n"
     ]
    }
   ],
   "source": [
    "!pip install llama-parse"
   ]
  },
  {
   "cell_type": "code",
   "execution_count": 3,
   "id": "1ccd3812-1553-47ca-8a8e-fe1b646fa571",
   "metadata": {},
   "outputs": [],
   "source": [
    "import nest_asyncio\n",
    "\n",
    "nest_asyncio.apply()\n"
   ]
  },
  {
   "cell_type": "code",
   "execution_count": 6,
   "id": "dfe106ec-bec5-495d-bfec-4f5d2e62b3d3",
   "metadata": {},
   "outputs": [],
   "source": [
    "LLAMAPARSE_APIKEY = \"llx-Fy6VBRTBGYZHnYFuar6xxRj7AFvtS9Y8wPfUMjLdu2IXpEXJ\""
   ]
  },
  {
   "cell_type": "code",
   "execution_count": 4,
   "id": "b997dae5-7c04-47d1-ab57-f5db29b68dc7",
   "metadata": {},
   "outputs": [],
   "source": [
    "from llama_parse import LlamaParse"
   ]
  },
  {
   "cell_type": "code",
   "execution_count": 7,
   "id": "e88b9959-6070-401a-9aef-b8f2a437984e",
   "metadata": {},
   "outputs": [
    {
     "data": {
      "text/plain": [
       "['.com.google.Chrome.qM3xvv',\n",
       " 'transcripts',\n",
       " 'CEAT Limited Annual Report FY17.pdf',\n",
       " 'CEAT Limited Annual Report FY16.pdf',\n",
       " 'CEAT Limited Integrated Annual Report FY20.pdf',\n",
       " 'CEAT Limited Annual Report FY18.pdf',\n",
       " 'CEAT Limited Annual Report FY19.pdf',\n",
       " '.com.google.Chrome.94cQkj',\n",
       " '.ipynb_checkpoints',\n",
       " 'CEAT AR 2021-22_Spread-27.6.22.pdf',\n",
       " '.com.google.Chrome.W2vNP8',\n",
       " 'Ceat-Limited-Integrated-Annual-Report-FY21.pdf',\n",
       " 'CEAT-Limited-Integrated-Annual-Report-FY23.pdf']"
      ]
     },
     "execution_count": 7,
     "metadata": {},
     "output_type": "execute_result"
    }
   ],
   "source": [
    "import os\n",
    "os.listdir(\"./ceat\")"
   ]
  },
  {
   "cell_type": "code",
   "execution_count": null,
   "id": "84bb352d-f4cd-4591-abd1-788508d52631",
   "metadata": {},
   "outputs": [],
   "source": [
    "parser = LlamaParse(\n",
    "    api_key=LLAMAPARSE_APIKEY,  # can also be set in your env as LLAMA_CLOUD_API_KEY\n",
    "    result_type=\"markdown\",  # \"markdown\" and \"text\" are available\n",
    "    num_workers=4,  # if multiple files passed, split in `num_workers` API calls\n",
    "    verbose=True,\n",
    "    language=\"en\",  # Optionally you can define a language, default=en\n",
    "    parsing_instruction=\"\"\"The file is the annual financial report of a tyre manufacturing company in India named CEAT. \n",
    "    It has a consistent formatting with texts in paragraph and relevant diagrams, charts around it. It has a lot of images of people, tyres as products, vehicles etc.\"\"\"\n",
    ")\n",
    "\n",
    "# sync\n",
    "# documents = parser.load_data(\"./ceat/CEAT Limited Annual Report FY16.pdf\")\n",
    "\n",
    "# sync batch\n",
    "# documents = parser.load_data([\"./my_file1.pdf\", \"./my_file2.pdf\"])\n",
    "\n",
    "# async\n",
    "# documents = await parser.aload_data(\"./ceat/CEAT Limited Annual Report FY16.pdf\")\n",
    "\n",
    "# async batch\n",
    "# documents = await parser.aload_data([\"./my_file1.pdf\", \"./my_file2.pdf\"])"
   ]
  },
  {
   "cell_type": "code",
   "execution_count": 9,
   "id": "52ea2700-8b1c-4458-afaf-b1e5e3c9b423",
   "metadata": {},
   "outputs": [
    {
     "name": "stdout",
     "output_type": "stream",
     "text": [
      "Started parsing the file under job_id 6dde3f7f-5d44-4199-9cbb-9a8af78d03bb\n"
     ]
    }
   ],
   "source": [
    "parser = LlamaParse(api_key=LLAMAPARSE_APIKEY, \n",
    "                    verbose=True, \n",
    "                    parsing_instruction=\"\"\"The file is the annual financial report of a tyre manufacturing company in India named CEAT. \n",
    "    It has a consistent formatting with texts in paragraph and relevant diagrams, charts around it. It has a lot of images of people, tyres as products, vehicles etc.\"\"\")\n",
    "json_objs = parser.get_json_result(\"./ceat/CEAT Limited Annual Report FY16.pdf\")\n",
    "json_list = json_objs[0][\"pages\"]\n",
    "\n",
    "\n",
    "\n",
    "\n",
    "\n",
    "\n",
    "\n",
    "\n"
   ]
  },
  {
   "cell_type": "code",
   "execution_count": 16,
   "id": "ba217445-08cd-44fd-8a6c-2cadde51af28",
   "metadata": {},
   "outputs": [
    {
     "data": {
      "text/plain": [
       "dict_keys(['page', 'text', 'md', 'images', 'items'])"
      ]
     },
     "execution_count": 16,
     "metadata": {},
     "output_type": "execute_result"
    }
   ],
   "source": [
    "json_list[0].keys()"
   ]
  },
  {
   "cell_type": "code",
   "execution_count": 13,
   "id": "57c741d3-853c-4880-b4ee-b47c0fc4eeb7",
   "metadata": {},
   "outputs": [
    {
     "data": {
      "text/plain": [
       "3"
      ]
     },
     "execution_count": 13,
     "metadata": {},
     "output_type": "execute_result"
    }
   ],
   "source": [
    "len(json_objs[0])"
   ]
  },
  {
   "cell_type": "code",
   "execution_count": 15,
   "id": "94387b57-6d7f-4b4e-a598-4115532be667",
   "metadata": {},
   "outputs": [
    {
     "data": {
      "text/plain": [
       "dict_keys(['pages', 'job_id', 'file_path'])"
      ]
     },
     "execution_count": 15,
     "metadata": {},
     "output_type": "execute_result"
    }
   ],
   "source": [
    "json_objs[0].keys()"
   ]
  },
  {
   "cell_type": "code",
   "execution_count": 17,
   "id": "aecebb86-1f1b-4d39-a459-342a27ec1057",
   "metadata": {},
   "outputs": [
    {
     "data": {
      "text/plain": [
       "['chroma',\n",
       " '.DS_Store',\n",
       " 'Parsing.ipynb',\n",
       " 'annotated_text_with_reference_all.json',\n",
       " 'annotated_text.json',\n",
       " 'ceat',\n",
       " 'chromedriver_mac_arm64',\n",
       " 'README.md',\n",
       " 'chromedriver_mac_arm64.zip',\n",
       " '.gitignore',\n",
       " 'QuantumAlpha.ipynb',\n",
       " '.ipynb_checkpoints',\n",
       " '.git',\n",
       " 'llama_parse_data',\n",
       " '.cache']"
      ]
     },
     "execution_count": 17,
     "metadata": {},
     "output_type": "execute_result"
    }
   ],
   "source": [
    "os.listdir()"
   ]
  },
  {
   "cell_type": "code",
   "execution_count": 19,
   "id": "b9a0d2dc-e4ce-4200-beea-19b042e0da83",
   "metadata": {},
   "outputs": [],
   "source": [
    "import json"
   ]
  },
  {
   "cell_type": "code",
   "execution_count": 20,
   "id": "7e7fb9bb-b575-4c09-a7fd-e9ee42833f3f",
   "metadata": {},
   "outputs": [
    {
     "name": "stdout",
     "output_type": "stream",
     "text": [
      "Data successfully written to ./llama_parse_data/2016pdf.json\n"
     ]
    }
   ],
   "source": [
    "file_path = \"./llama_parse_data/2016pdf.json\"\n",
    "with open(file_path, 'w') as file:\n",
    "    json.dump(json_objs, file, indent=4)\n",
    "\n",
    "print(f\"Data successfully written to {file_path}\")"
   ]
  },
  {
   "cell_type": "code",
   "execution_count": 21,
   "id": "b5848c7b-4146-4356-8ae7-a45f93170bb0",
   "metadata": {},
   "outputs": [],
   "source": [
    "pages = json_list"
   ]
  },
  {
   "cell_type": "code",
   "execution_count": 23,
   "id": "bcce623e-723d-40ca-afe4-2cb2271ce682",
   "metadata": {},
   "outputs": [
    {
     "data": {
      "text/plain": [
       "'# CEAT Annual Financial Report\\n\\n# CEAT Annual Financial Report\\n\\nCEAT is a leading tyre manufacturing company in India, dedicated to making mobility safer and smarter every day.\\n\\nOur commitment to innovation and quality has made us a trusted name in the industry. We offer a wide range of tyres for various vehicles, ensuring safety and performance on the road.\\n\\nAt CEAT, we believe in continuous improvement and sustainable practices. Our financial report reflects our dedication to growth and success in the market.\\n\\nJoin us in our journey towards safer and smarter mobility. Together, we can make a difference on the roads every day.'"
      ]
     },
     "execution_count": 23,
     "metadata": {},
     "output_type": "execute_result"
    }
   ],
   "source": [
    "pages[0][\"md\"]"
   ]
  },
  {
   "cell_type": "code",
   "execution_count": 54,
   "id": "2a147bf7-488b-48dd-a725-c15dcdf380d3",
   "metadata": {},
   "outputs": [],
   "source": [
    "# for i in pages[10:20]:\n",
    "#     print(i[\"md\"])"
   ]
  },
  {
   "cell_type": "code",
   "execution_count": 44,
   "id": "9363769e-e9e3-492e-9395-801fc1072411",
   "metadata": {},
   "outputs": [],
   "source": [
    "# json_list[0][\"items\"]"
   ]
  },
  {
   "cell_type": "code",
   "execution_count": 31,
   "id": "de9823da-e5e8-412d-9c49-aee4c68808f0",
   "metadata": {},
   "outputs": [
    {
     "data": {
      "text/plain": [
       "5"
      ]
     },
     "execution_count": 31,
     "metadata": {},
     "output_type": "execute_result"
    }
   ],
   "source": [
    "len(json_list[0])"
   ]
  },
  {
   "cell_type": "code",
   "execution_count": 34,
   "id": "1daf7b3d-bb54-4850-90f8-b18a0f485563",
   "metadata": {},
   "outputs": [
    {
     "data": {
      "text/plain": [
       "5"
      ]
     },
     "execution_count": 34,
     "metadata": {},
     "output_type": "execute_result"
    }
   ],
   "source": [
    "len(json_list[2])"
   ]
  },
  {
   "cell_type": "code",
   "execution_count": 42,
   "id": "d7b603fa-2b9d-46b3-8ef0-fc46a6082559",
   "metadata": {},
   "outputs": [],
   "source": [
    "# json_list[3][\"items\"]"
   ]
  },
  {
   "cell_type": "code",
   "execution_count": 43,
   "id": "26f906af-c3fa-4ffa-b7a0-bc8e86c3674e",
   "metadata": {},
   "outputs": [],
   "source": [
    "# json_list[4][\"items\"]"
   ]
  },
  {
   "cell_type": "code",
   "execution_count": 46,
   "id": "68d85378-71eb-4f22-a017-a224aa7d62df",
   "metadata": {},
   "outputs": [],
   "source": [
    "pages = json_list"
   ]
  },
  {
   "cell_type": "code",
   "execution_count": 48,
   "id": "2ab847d1-7471-4b45-b15a-ecd6d661b29c",
   "metadata": {},
   "outputs": [
    {
     "data": {
      "text/plain": [
       "212"
      ]
     },
     "execution_count": 48,
     "metadata": {},
     "output_type": "execute_result"
    }
   ],
   "source": [
    "len(pages)"
   ]
  },
  {
   "cell_type": "code",
   "execution_count": 55,
   "id": "005afd2b-7f42-441e-99a2-31ce6f6a9910",
   "metadata": {},
   "outputs": [],
   "source": [
    "# pages[0]"
   ]
  },
  {
   "cell_type": "code",
   "execution_count": 56,
   "id": "24a64d09-7688-4983-b2ac-584adde462c2",
   "metadata": {},
   "outputs": [],
   "source": [
    "# print(pages[1][\"md\"])"
   ]
  },
  {
   "cell_type": "code",
   "execution_count": 57,
   "id": "94930cde-6068-41b4-a27d-94f831e05e92",
   "metadata": {},
   "outputs": [],
   "source": [
    "# pages[1][\"items\"]"
   ]
  },
  {
   "cell_type": "code",
   "execution_count": null,
   "id": "4138bfee-a2b5-414f-9c37-e232445a9bb3",
   "metadata": {},
   "outputs": [],
   "source": []
  }
 ],
 "metadata": {
  "kernelspec": {
   "display_name": "Python 3 (ipykernel)",
   "language": "python",
   "name": "python3"
  },
  "language_info": {
   "codemirror_mode": {
    "name": "ipython",
    "version": 3
   },
   "file_extension": ".py",
   "mimetype": "text/x-python",
   "name": "python",
   "nbconvert_exporter": "python",
   "pygments_lexer": "ipython3",
   "version": "3.11.0"
  }
 },
 "nbformat": 4,
 "nbformat_minor": 5
}
