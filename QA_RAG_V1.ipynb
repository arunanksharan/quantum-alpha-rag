{
 "cells": [
  {
   "cell_type": "markdown",
   "id": "e90d40e6-644f-4ebd-81e8-d0285122cd9f",
   "metadata": {},
   "source": [
    "# Pipeline Steps:\n",
    "1. Sourcing:\n",
    "- Selenium based scraper for CEAT website\n",
    "\n",
    "2. Parsing:\n",
    "- Llama-parse apis with json\n",
    "- Each separate section is returned as a json object with its metadata available\n",
    "- Combine all the markdown as a single markdown text\n",
    "- Use Langchain MarkdownHeaderTextSplitter using level 1 and level 2 to create chunks\n",
    "- Use RecursiveCharacterTextSplitter to split it down further\n",
    "- **Todo**: Convert into Document using Llamaindex with metadata and split it\n",
    "  \n",
    "3. Tagging:\n",
    "- **Todo**: Use LLM to extract keywaords and add as tags in metadata. Use this to enhance keyword based search and routing of queries.\n",
    "\n",
    "4. Embedding generation\n",
    "- Chroma DB with Llama3 8B\n",
    "- **Todo**: Shift to OpenAI Embeddings with a hosted vector store\n",
    "\n",
    "5. Query Construstion\n",
    "6. Router\n",
    "7. Metadata Search\n",
    "8. Top-K Similarity Search\n",
    "\n",
    "**Rough Flow**: doc => llama parse => markdown splitter + tags + metadata => recursive splitter => embedding => into vector store\n",
    "query => enhance using llm => embedding => top k similarity search\n",
    "enhance via metadata search "
   ]
  },
  {
   "cell_type": "markdown",
   "id": "53655aa3-2471-4c4b-b192-615512c57691",
   "metadata": {},
   "source": [
    "# Sourcing\n",
    "## Download Reports from Ceat Website"
   ]
  },
  {
   "cell_type": "code",
   "execution_count": null,
   "id": "84031831-b5e8-4a9f-80ed-8c86b8e600ad",
   "metadata": {},
   "outputs": [],
   "source": [
    "from selenium import webdriver\n",
    "from selenium.webdriver.common.by import By\n",
    "from selenium.webdriver.common.keys import Keys\n",
    "from selenium.webdriver.support.wait import WebDriverWait\n",
    "import time"
   ]
  },
  {
   "cell_type": "code",
   "execution_count": null,
   "id": "10ce3123-cdc1-4d61-8397-fe4a62a2f758",
   "metadata": {},
   "outputs": [],
   "source": [
    "# Set up the WebDriver\n",
    "download_dir = os.getcwd() + \"/ceat\"  # Download and Save the pdf to this folder\n",
    "print(download_dir)\n",
    "os.makedirs(download_dir, exist_ok=True)\n",
    "\n",
    "# Set Chrome preferences to automate downloads\n",
    "options = Options()\n",
    "prefs = {\n",
    "        \"download.default_directory\": download_dir,\n",
    "        \"download.prompt_for_download\": False,  # To automatically download the PDF\n",
    "        # \"download.directory_upgrade\": True,\n",
    "        \"plugins.always_open_pdf_externally\": True  # It will not open the PDF in the browser\n",
    "    }\n",
    "options.add_experimental_option(\"prefs\", prefs)\n",
    "# options.add_argument(\"--headless\")\n",
    "\n",
    "# Initialize WebDriver with options\n",
    "service = Service(executable_path=\"./chromedriver_mac_arm64/chromedriver\") # Update the path to where you've downloaded chromedriver\n",
    "driver = webdriver.Chrome(options=options)\n",
    "print(driver)\n",
    "\n",
    "# URL of the webpage\n",
    "url = 'https://www.ceat.com/investors/annual-reports.html'\n",
    "\n",
    "# Navigate to the URL\n",
    "driver.get(url)\n",
    "\n",
    "# Extract the specific component\n",
    "# Replace 'your-css-selector' with the actual CSS selector for your component\n",
    "elements = driver.find_elements(By.CSS_SELECTOR, 'a.btn-icon')\n",
    "\n",
    "report_urls = [element.get_attribute('href') for element in elements]\n",
    "print(\"report-urls\", report_urls)\n",
    "\n",
    "if report_urls:\n",
    "    for report_url in report_urls:\n",
    "        driver.get(report_url)\n",
    "        WebDriverWait(driver, 10)\n",
    "    \n",
    "# download_pdf(driver, report_urls[0])    # driver.get(report_urls[0])\n",
    "print(\"postwait\")\n",
    "\n",
    "time.sleep(60)\n",
    "driver.quit()"
   ]
  },
  {
   "cell_type": "markdown",
   "id": "1e38df25-b244-433a-81ec-9e9ac614cff1",
   "metadata": {},
   "source": [
    "# Parsing\n",
    " - Llama-parse apis with json"
   ]
  },
  {
   "cell_type": "code",
   "execution_count": null,
   "id": "77aad57d-dc8c-4573-bd6a-b0b3bc2c338d",
   "metadata": {},
   "outputs": [],
   "source": [
    "!pip install llama-parse"
   ]
  },
  {
   "cell_type": "code",
   "execution_count": null,
   "id": "d3902f82-8d38-45c4-9fa5-761a50d64d46",
   "metadata": {},
   "outputs": [],
   "source": [
    "import nest_asyncio\n",
    "from llama_parse import LlamaParse\n"
   ]
  },
  {
   "cell_type": "code",
   "execution_count": null,
   "id": "2b629c36-a9b9-4f54-bf3a-83de52d06d62",
   "metadata": {},
   "outputs": [],
   "source": [
    "nest_asyncio.apply()"
   ]
  },
  {
   "cell_type": "markdown",
   "id": "e3667a65-d4b5-4309-9c6b-4f0a5374d79c",
   "metadata": {},
   "source": [
    "## Environment Variables\n",
    "- Llamaparse API Key\n",
    "- **Todo**: OpenAI, Database Connections"
   ]
  },
  {
   "cell_type": "code",
   "execution_count": 2,
   "id": "fb12bdbc-81e1-49a6-aede-727a0c33cd87",
   "metadata": {},
   "outputs": [],
   "source": [
    "import os\n",
    "from dotenv import load_dotenv\n",
    "\n",
    "# Load environment variables from .env file\n",
    "load_dotenv()\n",
    "\n",
    "# Access the API key\n",
    "api_key = os.getenv('LLAMAPARSE_APIKEY')\n",
    "# print(api_key)\n"
   ]
  },
  {
   "cell_type": "code",
   "execution_count": null,
   "id": "10fab748-c22d-4e39-98f6-e6765c033f6d",
   "metadata": {},
   "outputs": [],
   "source": [
    "# LLAMAPARSE_APIKEY = \"llx-\""
   ]
  },
  {
   "cell_type": "code",
   "execution_count": null,
   "id": "9713384a-2d3d-4db1-955d-87c0ccc72aad",
   "metadata": {},
   "outputs": [],
   "source": [
    "PARSING_INSTUCTION = \"\"\"The file is the annual financial report of a tyre manufacturing company in India named CEAT. \n",
    "It has a consistent formatting with texts in paragraph and relevant diagrams, charts around it. \n",
    "It has a lot of images of people, tyres as products, vehicles etc.\"\"\""
   ]
  },
  {
   "cell_type": "code",
   "execution_count": null,
   "id": "a571c795-bff2-4ad3-a21d-a1afc964e2a4",
   "metadata": {},
   "outputs": [],
   "source": [
    "parser = LlamaParse(api_key=LLAMAPARSE_APIKEY, \n",
    "                    verbose=True, \n",
    "                    parsing_instruction=PARSING_INSTRUCTION)"
   ]
  },
  {
   "cell_type": "code",
   "execution_count": null,
   "id": "3a262674-df73-4364-9d25-cc64c8585e5e",
   "metadata": {},
   "outputs": [],
   "source": [
    "json_objs = parser.get_json_result(\"./ceat/CEAT Limited Annual Report FY16.pdf\")"
   ]
  },
  {
   "cell_type": "code",
   "execution_count": null,
   "id": "1c497c52-8955-4b25-a086-69e72643b5c5",
   "metadata": {},
   "outputs": [],
   "source": [
    "pages = json_objs[0][\"pages\"]"
   ]
  },
  {
   "cell_type": "markdown",
   "id": "47f26cf5-7ed6-428c-9f9d-3bd41b7cde1a",
   "metadata": {},
   "source": [
    "## Write parsed response to a json file (as backup)\n",
    "- **Todo**: Setup a Database to save the parsed content"
   ]
  },
  {
   "cell_type": "code",
   "execution_count": null,
   "id": "3efda1e9-f82b-4bfa-a3e8-d6c14e509537",
   "metadata": {},
   "outputs": [],
   "source": [
    "file_path = \"./llama_parse_data/2016pdf.json\""
   ]
  },
  {
   "cell_type": "code",
   "execution_count": null,
   "id": "0adb9af6-eef9-439b-8100-371e93b7270e",
   "metadata": {},
   "outputs": [],
   "source": [
    "with open(file_path, 'w') as file:\n",
    "    json.dump(json_objs, file, indent=4)\n",
    "\n",
    "print(f\"Data successfully written to {file_path}\")"
   ]
  },
  {
   "cell_type": "markdown",
   "id": "3bf8be3d-a2fb-4216-b456-e11f83f136ea",
   "metadata": {},
   "source": [
    "## Load parsed response from json file\n",
    "- **Todo**: Read from Database"
   ]
  },
  {
   "cell_type": "markdown",
   "id": "ae8e8cf4-fe13-48a4-b9d7-abed76d68ad4",
   "metadata": {},
   "source": [
    "```python\n",
    "file_path = \"./llama_parse_data/2016pdf.json\"\n",
    "with open(file_path, 'r') as file:\n",
    "    json_docs = json.load(file)\n",
    "pages = json_docs[0][\"pages\"]\n",
    "```"
   ]
  },
  {
   "cell_type": "markdown",
   "id": "85c7036b-c411-4acd-a70a-ecba0fd4cffd",
   "metadata": {},
   "source": [
    "## Combine all the markdown as a single markdown text"
   ]
  },
  {
   "cell_type": "code",
   "execution_count": null,
   "id": "a1b4182d-8469-49f0-998f-ecc5119ad73c",
   "metadata": {},
   "outputs": [],
   "source": [
    "md_pages = [element[\"md\"] for element in pages]"
   ]
  },
  {
   "cell_type": "markdown",
   "id": "a79ebb49-b2f2-4e2a-8b3c-ba1050b2f5a0",
   "metadata": {},
   "source": [
    "## Use Langchain MarkdownHeaderTextSplitter using level 1 and level 2 to create chunks"
   ]
  },
  {
   "cell_type": "code",
   "execution_count": null,
   "id": "d48e24ec-e1f5-4d21-96f1-e859cdb89a4c",
   "metadata": {},
   "outputs": [],
   "source": [
    "from langchain_text_splitters import MarkdownHeaderTextSplitter\n",
    "from langchain_text_splitters import RecursiveCharacterTextSplitter\n",
    "from langchain.schema.document import Document"
   ]
  },
  {
   "cell_type": "code",
   "execution_count": null,
   "id": "ccbaa377-68b6-4f9c-8f9a-c0966549b761",
   "metadata": {},
   "outputs": [],
   "source": [
    "headers_to_split_on = [\n",
    "    (\"#\", \"Header 1\"),\n",
    "    (\"##\", \"Header 2\"),\n",
    "]\n",
    "\n",
    "markdown_splitter = MarkdownHeaderTextSplitter(headers_to_split_on=headers_to_split_on)\n",
    "md_header_splits = markdown_splitter.split_text(md_pages)\n",
    "md_header_splits"
   ]
  },
  {
   "cell_type": "markdown",
   "id": "36987188-1f20-43d4-9290-b6a3f07d5fbf",
   "metadata": {},
   "source": [
    "## Use RecursiveCharacterTextSplitter to split it down further"
   ]
  },
  {
   "cell_type": "code",
   "execution_count": null,
   "id": "40338b65-9d34-4793-a29d-d73d21c7f3aa",
   "metadata": {},
   "outputs": [],
   "source": [
    "from langchain_text_splitters import RecursiveCharacterTextSplitter"
   ]
  },
  {
   "cell_type": "code",
   "execution_count": null,
   "id": "640d2ed0-c39b-4cea-80b8-d5dbdb7dd852",
   "metadata": {},
   "outputs": [],
   "source": [
    "# Char-level splits\n",
    "CHUNK_SIZE = 1000\n",
    "CHUNK_OVERLAP = 100\n",
    "text_splitter = RecursiveCharacterTextSplitter(\n",
    "    chunk_size=CHUNK_SIZE, chunk_overlap=CHUNK_OVERLAP\n",
    ")\n",
    "\n",
    "# Split\n",
    "splits = text_splitter.split_documents(md_header_splits)\n",
    "splits"
   ]
  },
  {
   "cell_type": "markdown",
   "id": "469a8b98-ca26-4048-9840-c2a57666e870",
   "metadata": {},
   "source": [
    "## Setup Llama3 8B"
   ]
  },
  {
   "cell_type": "code",
   "execution_count": null,
   "id": "8d434f48-a7fb-41a5-b6ae-f68973345091",
   "metadata": {},
   "outputs": [],
   "source": [
    "from langchain_community.embeddings.ollama import OllamaEmbeddings"
   ]
  },
  {
   "cell_type": "code",
   "execution_count": null,
   "id": "ad6e7fa3-4aa9-4fba-b60d-1ed38033f588",
   "metadata": {},
   "outputs": [],
   "source": [
    "MODEL_NAME = \"llama3\"\n",
    "BASE_URL = \"http://localhost:11434\""
   ]
  },
  {
   "cell_type": "code",
   "execution_count": null,
   "id": "1289b66d-2d11-4c3d-9d35-a70e0b8a49c1",
   "metadata": {},
   "outputs": [],
   "source": [
    "def get_embedding_function():\n",
    "    embeddings = OllamaEmbeddings(model=MODEL_NAME, base_url=BASE_URL)\n",
    "    return embeddings"
   ]
  },
  {
   "cell_type": "markdown",
   "id": "48519bde-e593-4190-9eb2-25a4f1f2d947",
   "metadata": {},
   "source": [
    "# Embeddings"
   ]
  },
  {
   "cell_type": "code",
   "execution_count": null,
   "id": "90963a2a-95fe-412e-9a20-a5f01f3ec20c",
   "metadata": {},
   "outputs": [],
   "source": [
    "embedding_function = get_embedding_function()\n",
    "print(embedding_function)"
   ]
  },
  {
   "cell_type": "markdown",
   "id": "7c3346f4-b249-4a9c-89b1-201cee937172",
   "metadata": {},
   "source": [
    "## Vectorstore: ChromaDB\n",
    "- Setup Chroma DB with Llama3 8B\n",
    "- **Todo**: Setup hosted vectorstore"
   ]
  },
  {
   "cell_type": "code",
   "execution_count": null,
   "id": "024f6ac4-fa46-4cf7-a360-418dc2f070b8",
   "metadata": {},
   "outputs": [],
   "source": [
    "CHROMA_PATH_LLAMA = \"chroma_llama\""
   ]
  },
  {
   "cell_type": "code",
   "execution_count": null,
   "id": "aaeb5475-f683-42b9-9389-19516f97c5cd",
   "metadata": {},
   "outputs": [],
   "source": [
    "from langchain.vectorstores.chroma import Chroma"
   ]
  },
  {
   "cell_type": "code",
   "execution_count": null,
   "id": "86f91de7-4220-4b2f-9436-c5045ab4d959",
   "metadata": {},
   "outputs": [],
   "source": [
    "db = Chroma.from_documents(splits, embedding_function, persist_directory=CHROMA_PATH_LLAMA)"
   ]
  },
  {
   "cell_type": "markdown",
   "id": "2044c351-126a-445b-a171-fb49a8f01298",
   "metadata": {},
   "source": [
    "## Similarity Search using Cosine Similarity\n",
    "- **Todo**: Query reconstruction and expansion"
   ]
  },
  {
   "cell_type": "markdown",
   "id": "72df9c35-b8a6-42bb-af76-4e2930950cd4",
   "metadata": {},
   "source": [
    "### PoC: Top-K Similarity Search"
   ]
  },
  {
   "cell_type": "code",
   "execution_count": null,
   "id": "37c046a0-c3d8-469e-b994-083311254750",
   "metadata": {},
   "outputs": [],
   "source": [
    "query = \"What is the ebitda OF CEAT?\""
   ]
  },
  {
   "cell_type": "code",
   "execution_count": null,
   "id": "3024a74b-5c97-4393-8b19-6b4720f7184d",
   "metadata": {},
   "outputs": [],
   "source": [
    "docs = db.similarity_search(query)\n",
    "print(docs)"
   ]
  },
  {
   "cell_type": "code",
   "execution_count": null,
   "id": "8cf50fb9-b372-4011-8b11-e3e08aa7419c",
   "metadata": {},
   "outputs": [],
   "source": [
    "docs_with_score = db.similarity_search_with_score(query)\n",
    "print(docs_with_score)"
   ]
  },
  {
   "cell_type": "code",
   "execution_count": null,
   "id": "2917e106-9795-4e94-a107-04b20cd1712a",
   "metadata": {},
   "outputs": [],
   "source": []
  }
 ],
 "metadata": {
  "kernelspec": {
   "display_name": "Python 3 (ipykernel)",
   "language": "python",
   "name": "python3"
  },
  "language_info": {
   "codemirror_mode": {
    "name": "ipython",
    "version": 3
   },
   "file_extension": ".py",
   "mimetype": "text/x-python",
   "name": "python",
   "nbconvert_exporter": "python",
   "pygments_lexer": "ipython3",
   "version": "3.11.0"
  }
 },
 "nbformat": 4,
 "nbformat_minor": 5
}
